{
 "cells": [
  {
   "cell_type": "markdown",
   "id": "f77ce90e",
   "metadata": {},
   "source": [
    "# Dealing with unclean data\n",
    "\n",
    "In this notebook we use `pyspark` library to read `bridge.csv` to filter out padding characters, blank lines, lines with missing values or containing missing values and lines containing non-numerical characters. In order to clean the CSV file we'll store the file content into a resilient distributed dataset (RDD). The header file is the *weight* and *deformation*, which are float values, of a bridge design. Finally we plot a scatter plot by using the `matplotlib` library."
   ]
  },
  {
   "cell_type": "markdown",
   "id": "51d5f853",
   "metadata": {},
   "source": [
    "First, we import the Python modules we are going to use. `pyspark` provides scalable data processing but in our case it's usefull since allow us to store the file content into RDDs of key-value pairs. `matplotlib` is for plotting a scatter plot of the the clean data. `numpy` library will convert the resulting RDD into a NumPy array of floats to use it then to plot. "
   ]
  },
  {
   "cell_type": "code",
   "execution_count": 1,
   "id": "e3c5e687",
   "metadata": {
    "scrolled": true
   },
   "outputs": [],
   "source": [
    "from pyspark import SparkConf, SparkContext\n",
    "import matplotlib.pyplot as plt\n",
    "import numpy as np"
   ]
  },
  {
   "cell_type": "markdown",
   "id": "a9d647d1",
   "metadata": {},
   "source": [
    "**Step 1. Initialize a SparkConf object**"
   ]
  },
  {
   "cell_type": "code",
   "execution_count": 2,
   "id": "1948015d",
   "metadata": {
    "scrolled": true
   },
   "outputs": [],
   "source": [
    "spark_conf = SparkConf().setAppName('CSVCleaner').setMaster('local[4]')"
   ]
  },
  {
   "cell_type": "markdown",
   "id": "27fd1920",
   "metadata": {},
   "source": [
    "**Step 2. Create a SparkContext object**"
   ]
  },
  {
   "cell_type": "code",
   "execution_count": 3,
   "id": "60b25121",
   "metadata": {
    "scrolled": true
   },
   "outputs": [],
   "source": [
    "spark_context = SparkContext.getOrCreate(spark_conf)"
   ]
  },
  {
   "cell_type": "markdown",
   "id": "59b63531",
   "metadata": {},
   "source": [
    "**Step 3. Read bridge.csv into a RDD and discard header (store header as a literal string by inspecting the CSV file)**"
   ]
  },
  {
   "cell_type": "code",
   "execution_count": 4,
   "id": "ce3e7f72",
   "metadata": {
    "scrolled": true
   },
   "outputs": [],
   "source": [
    "header = 'Weight,Deformation'\n",
    "lines = spark_context.textFile(\"data/bridge.csv\").filter(lambda line: header not in line).cache()"
   ]
  },
  {
   "cell_type": "markdown",
   "id": "e9304000",
   "metadata": {},
   "source": [
    "**Step 4. Filter rows with less than two columns (that is, invalid lines)**"
   ]
  },
  {
   "cell_type": "code",
   "execution_count": 5,
   "id": "3f4dd000",
   "metadata": {
    "scrolled": true
   },
   "outputs": [],
   "source": [
    "valid_lines = lines.filter(lambda line: len(line.split(\",\")) >= 2).cache()"
   ]
  },
  {
   "cell_type": "markdown",
   "id": "7fd02494",
   "metadata": {},
   "source": [
    "**Step 5. Convert each row to a tuple (weight, deformation) by cleaning padding characters and by removing the third component (produced by a comma at the end of line)**"
   ]
  },
  {
   "cell_type": "code",
   "execution_count": 6,
   "id": "9d80b618",
   "metadata": {
    "scrolled": true
   },
   "outputs": [],
   "source": [
    "rdd_pairs = valid_lines.map(lambda line: tuple(line.strip().split(',')[:2])).cache()"
   ]
  },
  {
   "cell_type": "markdown",
   "id": "910a28de",
   "metadata": {},
   "source": [
    "**Step 6. Filter out rows with missing values**"
   ]
  },
  {
   "cell_type": "code",
   "execution_count": 7,
   "id": "f1ae03a4",
   "metadata": {
    "scrolled": true
   },
   "outputs": [],
   "source": [
    "clean_rdd_pairs = rdd_pairs.filter(lambda line: all(x.strip() for x in line)).cache()"
   ]
  },
  {
   "cell_type": "markdown",
   "id": "f2f50ae8",
   "metadata": {},
   "source": [
    "**Step 7.1. Function to check if a string is a float representation**"
   ]
  },
  {
   "cell_type": "code",
   "execution_count": 8,
   "id": "78e4cf03",
   "metadata": {
    "scrolled": true
   },
   "outputs": [],
   "source": [
    "def is_float(string):\n",
    "    try:\n",
    "        float(string)\n",
    "        return True\n",
    "    except ValueError:\n",
    "        return False"
   ]
  },
  {
   "cell_type": "markdown",
   "id": "e51c7329",
   "metadata": {},
   "source": [
    "**Step 7.2. Filter in only pairs containing float-type values**"
   ]
  },
  {
   "cell_type": "code",
   "execution_count": 9,
   "id": "d92e362d",
   "metadata": {
    "scrolled": true
   },
   "outputs": [],
   "source": [
    "numerical_rdd = clean_rdd_pairs.filter(lambda tup: is_float(tup[0]) and is_float(tup[1]))"
   ]
  },
  {
   "cell_type": "markdown",
   "id": "e391569b",
   "metadata": {},
   "source": [
    "**Step 8. Print the resulting clean data**"
   ]
  },
  {
   "cell_type": "code",
   "execution_count": 10,
   "id": "57a8821b",
   "metadata": {
    "scrolled": false
   },
   "outputs": [
    {
     "name": "stdout",
     "output_type": "stream",
     "text": [
      "Line 1: ('0.1600004095193499', '0.599999565925713')\n",
      "Line 2: ('0.7999996334783612', '0.105573019041743')\n",
      "Line 3: ('0.3474026835213373', '0.41059125458931517')\n",
      "Line 4: ('0.3409188533102768', '0.4161174319177898')\n",
      "Line 5: ('0.33448446398543363', '0.4216536843155324')\n",
      "Line 6: ('0.35390522300019', '0.4051006617019322')\n",
      "Line 7: ('0.3280925245214544', '0.42720638686411727')\n",
      "Line 8: ('0.3217358217215534', '0.43278238841939665')\n",
      "Line 9: ('0.36039794488768706', '0.3996684723945372')\n",
      "Line 10: ('0.3154172733712044', '0.4383797783455403')\n",
      "Line 11: ('0.3669234753668437', '0.3942579191642874')\n",
      "Line 12: ('0.37345638999357544', '0.3888892255982278')\n",
      "Line 13: ('0.3091488764126171', '0.44398842406579203')\n",
      "Line 14: ('0.3800121516706126', '0.38354874656944227')\n",
      "Line 15: ('0.30295098086750766', '0.44959017652156535')\n",
      "Line 16: ('0.38657333470529276', '0.3782497818184258')\n",
      "Line 17: ('0.29063517731969263', '0.4608941011769619')\n",
      "Line 18: ('0.28454896813201636', '0.46656868557912423')\n",
      "Line 19: ('0.39313313091886176', '0.3729967066807797')\n",
      "Line 20: ('0.27851604294199267', '0.4722538129822601')\n",
      "Line 21: ('0.40628079773284537', '0.3625984029187178')\n",
      "Line 22: ('0.2725391509923811', '0.47794719128862156')\n",
      "Line 23: ('0.4128701094135405', '0.35745030727941896')\n",
      "Line 24: ('0.41945562365240663', '0.3523460745683106')\n",
      "Line 25: ('0.2666410888324653', '0.483626986875897')\n",
      "Line 26: ('0.42606435824361255', '0.3472639533512122')\n",
      "Line 27: ('0.2607841547754233', '0.48932970052841396')\n",
      "Line 28: ('0.4458997130090316', '0.3322427776496839')\n",
      "Line 29: ('0.4392521483215916', '0.33723900031994825')\n",
      "Line 30: ('0.4326541976345938', '0.3422354548598913')\n",
      "Line 31: ('0.2549991070353236', '0.4950256529782197')\n",
      "Line 32: ('0.2549991070353236', '0.4950256529782197')\n",
      "Line 33: ('0.24925016280479606', '0.5007504192441555')\n",
      "Line 34: ('0.2435380605977785', '0.506504259978834')\n",
      "Line 35: ('0.45255046546599664', '0.32728129578647425')\n",
      "Line 36: ('0.46580403891446953', '0.3175016206720553')\n",
      "Line 37: ('0.4591545026394439', '0.32239060014033816')\n",
      "Line 38: ('0.23229484801346945', '0.5180302417933517')\n",
      "Line 39: ('0.4724584013583634', '0.31264390968499706')\n",
      "Line 40: ('0.792435368251769', '0.10981163755679912')\n",
      "Line 41: ('0.792435368251769', '0.10981163755679912')\n",
      "Line 42: ('0.792435368251769', '0.10981163755679912')\n",
      "Line 43: ('0.792435368251769', '0.10981163755679912')\n",
      "Line 44: ('0.7848970329348788', '0.11405585364696387')\n",
      "Line 45: ('0.47909045487977875', '0.3078363974010377')\n",
      "Line 46: ('0.7773862275965302', '0.11830491468711804')\n",
      "Line 47: ('0.7699096346032278', '0.12255506347485975')\n",
      "Line 48: ('0.2267632101907031', '0.5238034112067054')\n",
      "Line 49: ('0.4857439080379726', '0.3030467064382924')\n",
      "Line 50: ('0.7624534384873033', '0.126814209535216')\n",
      "Line 51: ('0.492385620193628', '0.2982980591482772')\n",
      "Line 52: ('0.49906014276534716', '0.2935581118840112')\n",
      "Line 53: ('0.7550403173680167', '0.13106944361785675')\n",
      "Line 54: ('0.2213177326158328', '0.52955584408585')\n",
      "Line 55: ('0.7476567389424471', '0.13532853699081338')\n",
      "Line 56: ('0.2159151711218809', '0.5353332698035185')\n",
      "Line 57: ('0.5124284641846971', '0.28415891924402753')\n",
      "Line 58: ('0.2105619652240353', '0.5411296943302976')\n",
      "Line 59: ('0.5190980085567902', '0.2795154433246125')\n",
      "Line 60: ('0.7403115806592241', '0.13958639226852754')\n",
      "Line 61: ('0.525790747174963', '0.2748857010542112')\n",
      "Line 62: ('0.5324829900058501', '0.2702856799420827')\n",
      "Line 63: ('0.5391937903930432', '0.265701839091544')\n",
      "Line 64: ('0.7330564860860745', '0.14381282495763154')\n",
      "Line 65: ('0.205263704212623', '0.5469396381600565')\n",
      "Line 66: ('0.5459147598989544', '0.26113955438769754')\n",
      "Line 67: ('0.7258082384233933', '0.14805620415327903')\n",
      "Line 68: ('0.5526560451107075', '0.256591603604101')\n",
      "Line 69: ('0.5594056360187074', '0.252065754225197')\n",
      "Line 70: ('0.6072041638298982', '0.22076693913307952')\n",
      "Line 71: ('0.5661846565085659', '0.2475475719299154')\n",
      "Line 72: ('0.5797803650842313', '0.23856690045442072')\n",
      "Line 73: ('0.5866114960388376', '0.23409433579675046')\n",
      "Line 74: ('0.2000371859206756', '0.5527448336277041')\n",
      "Line 75: ('0.572968945115894', '0.24305287848265267')\n",
      "Line 76: ('0.6003019124357794', '0.22520847162880042')\n",
      "Line 77: ('0.6141077117663042', '0.21634975638594459')\n",
      "Line 78: ('0.5934590765189613', '0.22963704914396238')\n",
      "Line 79: ('0.7185978141827077', '0.15229851636479771')\n",
      "Line 80: ('0.6210262701514918', '0.21194779985619494')\n",
      "Line 81: ('0.19483040279337605', '0.5586040346168714')\n",
      "Line 82: ('0.6279429618162687', '0.20757148355483204')\n",
      "Line 83: ('0.6348644998867188', '0.2032161525475955')\n",
      "Line 84: ('0.7114460332020771', '0.1565273974301777')\n",
      "Line 85: ('0.18971116938088003', '0.5644415504920198')\n",
      "Line 86: ('0.697321412176046', '0.16494227018935712')\n",
      "Line 87: ('0.6418000987806182', '0.19887574739236763')\n",
      "Line 88: ('0.18464464597065045', '0.570297033130658')\n",
      "Line 89: ('0.7043645514037609', '0.16073571880342452')\n",
      "Line 90: ('0.690248913349706', '0.16918785818128843')\n",
      "Line 91: ('0.17962395438061485', '0.5761793387233021')\n",
      "Line 92: ('0.7043645514037609', '0.16073571880342452')\n",
      "Line 93: ('0.17463981673699797', '0.5821007122673473')\n",
      "Line 94: ('0.6486854221627268', '0.1945899156919917')\n",
      "Line 95: ('0.6555890245766328', '0.19031547868254053')\n",
      "Line 96: ('0.6832711427607736', '0.17339783557698984')\n",
      "Line 97: ('0.16970904653473867', '0.5880424375330787')\n",
      "Line 98: ('0.6624939264408007', '0.18606271390805748')\n",
      "Line 99: ('0.6763088480121431', '0.177620010061182')\n",
      "Line 100: ('0.1648329040548488', '0.594003820900443')\n",
      "Line 101: ('0.6694007033982603', '0.1818308867751699')\n"
     ]
    }
   ],
   "source": [
    "for index, pair in enumerate(numerical_rdd.collect()):\n",
    "    print(f'Line {index+1}: {pair}')"
   ]
  },
  {
   "cell_type": "markdown",
   "id": "3b1fe4c5",
   "metadata": {},
   "source": [
    "**Step 9. Convert array of strings as NumPy arrays of float values**"
   ]
  },
  {
   "cell_type": "code",
   "execution_count": 11,
   "id": "6d54e0a9",
   "metadata": {
    "scrolled": true
   },
   "outputs": [],
   "source": [
    "y_coords = np.array(numerical_rdd.map(lambda point: point[0]).collect(), dtype=float)\n",
    "x_coords = np.array(numerical_rdd.map(lambda point: point[1]).collect(), dtype=float)"
   ]
  },
  {
   "cell_type": "markdown",
   "id": "9105ebc6",
   "metadata": {},
   "source": [
    "**Step 9. Plot a weight versus deformation scatter plot**"
   ]
  },
  {
   "cell_type": "code",
   "execution_count": 12,
   "id": "c5899c2a",
   "metadata": {
    "scrolled": false
   },
   "outputs": [
    {
     "data": {
      "image/png": "[encoded data removed]",
      "text/plain": [
       "<Figure size 640x480 with 1 Axes>"
      ]
     },
     "metadata": {},
     "output_type": "display_data"
    }
   ],
   "source": [
    "plt.scatter(x_coords, y_coords, marker='x')\n",
    "plt.title(\"Curve weight based of deformation\")\n",
    "plt.xlabel(\"Deformation\")\n",
    "plt.ylabel(\"Weight\")\n",
    "plt.show()"
   ]
  },
  {
   "cell_type": "markdown",
   "id": "bc23d6a5",
   "metadata": {},
   "source": [
    "*(The end.)*"
   ]
  }
 ],
 "metadata": {
  "kernelspec": {
   "display_name": "Python 3 (ipykernel)",
   "language": "python",
   "name": "python3"
  },
  "language_info": {
   "codemirror_mode": {
    "name": "ipython",
    "version": 3
   },
   "file_extension": ".py",
   "mimetype": "text/x-python",
   "name": "python",
   "nbconvert_exporter": "python",
   "pygments_lexer": "ipython3",
   "version": "3.7.16"
  }
 },
 "nbformat": 4,
 "nbformat_minor": 5
}
