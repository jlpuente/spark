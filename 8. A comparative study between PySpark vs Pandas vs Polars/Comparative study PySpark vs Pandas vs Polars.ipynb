{
 "cells": [
  {
   "cell_type": "markdown",
   "id": "f75502e9",
   "metadata": {},
   "source": [
    "# Comparative study: PySpark vs Pandas vs Polars\n",
    "This assessment corresponds to the challenge proposed for the module 8 \"Scalable data processing\".\n",
    "\n",
    "José Luis Puente Bodoque.\n",
    "\n",
    "Monday, April 3, 2023.\n",
    "\n",
    "## Table of contents\n",
    "\n",
    "- [Approach of the assessment](#Approach-of-the-assessment)\n",
    "- [Configuration of my test computer](#Configuration-of-my-test-computer)\n",
    "- [Packages to use](#Packages-to-use)\n",
    "- [How do I measure time executions?](#How-do-I-measure-time-executions?)\n",
    "- [Measurements](#Measurements)\n",
    "- [Function to plot the measurements](#Function-to-plot-the-measurements)\n",
    "- [Issues I have run into during tests](#Issues-I-have-run-into-during-tests)\n",
    "  * [Java heap runs out of memory](#Java-heap-runs-out-of-memory)\n",
    "- [Load of CSV input files into DataFrame objects for each API](#Load-of-CSV-input-files-into-DataFrame-objects-for-each-API)\n",
    "- [Measurements of times](#Measurements-of-times)\n",
    "  * [Measurement 1: functions of aggregation](#Measurement-1:-functions-of-aggregation)\n",
    "- [Measurement 2: filtering](#Measurement-2:-filtering)\n",
    "- [Results](#Results)\n",
    "- [Stop SparkSession object](#Stop-SparkSession-object)\n",
    "- [Conclusions](#Conclusions)"
   ]
  },
  {
   "cell_type": "markdown",
   "id": "d8d95bbf",
   "metadata": {},
   "source": [
    "## Approach of the assessment\n",
    "This study is a simple and cualitative comparative of performance by using PySpark, Pandas and Polars Python libraries on a small, medium and large dataset. The measurement of performance actually consists of measuring how long these libraries take to run a block of operations over a DataFrame object. The operations to measure are two: (1) a series of a group by + count + sort functions of aggregations and (2) a filter operations. Both are common operations on tabular data.\n",
    "\n",
    "In general, Spark is designed to scale large datasets that cannot fit into memory on a single machine. Spark uses distributed processing to parallelize computation across a cluster of machines, which can be more efficient than running on a single machine with limited resources. However, theoretically the overhead of distributing and coordinating the computation on a single machine can add additional latency, which can make PySpark slower even for larger datasets. So the real approach of this assessment is to check experimentally whether the previous statement is true or false.\n",
    "\n",
    "On the other hand, Pandas and Polars are designed for in-memory processing on a single machine, which can be more efficient for smaller datasets that can fit into memory. Since they do not have the overhead of distributed processing, they should be faster for certain operations on smaller datasets. So we expect theretically better results even on larger datasets."
   ]
  },
  {
   "cell_type": "markdown",
   "id": "291c3175",
   "metadata": {},
   "source": [
    "## Configuration of my test computer\n",
    "I will run the tests on my personal laptop, which I'm using to course the master."
   ]
  },
  {
   "cell_type": "code",
   "execution_count": 1,
   "id": "82dc6303",
   "metadata": {
    "scrolled": true
   },
   "outputs": [
    {
     "name": "stdout",
     "output_type": "stream",
     "text": [
      "Computer information:\n",
      "· OS: Windows 11 Pro\n",
      "· Processor: Intel i5-11400H @ 2.70GHz\n",
      "· Cores: 6\n",
      "· Threads: 12\n",
      "· RAM: 16 GB\n",
      "· Java 11\n",
      "· Spark 3.3.2\n",
      "· Python 3.7.16\n",
      "I use 6 cores in this assessment.\n"
     ]
    }
   ],
   "source": [
    "def print_pc_info():\n",
    "\n",
    "    print('Computer information:\\n'\n",
    "          '· OS: Windows 11 Pro\\n'\n",
    "          '· Processor: Intel i5-11400H @ 2.70GHz\\n'\n",
    "          '· Cores: 6\\n'\n",
    "          '· Threads: 12\\n'\n",
    "          '· RAM: 16 GB\\n'\n",
    "          '· Java 11\\n'\n",
    "          '· Spark 3.3.2\\n'\n",
    "          '· Python 3.7.16\\n'\n",
    "          'I use 6 cores in this assessment.')\n",
    "\n",
    "print_pc_info()"
   ]
  },
  {
   "cell_type": "markdown",
   "id": "49d0f062",
   "metadata": {},
   "source": [
    "I will use all the cores it offers to me."
   ]
  },
  {
   "cell_type": "markdown",
   "id": "87620177",
   "metadata": {},
   "source": [
    "## Packages to use\n",
    "The packages that I have used in the code are:"
   ]
  },
  {
   "cell_type": "code",
   "execution_count": 2,
   "id": "de80748b",
   "metadata": {
    "scrolled": true
   },
   "outputs": [],
   "source": [
    "from pyspark import SparkConf\n",
    "from pyspark.sql import SparkSession, functions\n",
    "from matplotlib import pyplot as plt\n",
    "import pandas as pd\n",
    "import polars as pl\n",
    "import time"
   ]
  },
  {
   "cell_type": "markdown",
   "id": "68d4ee25",
   "metadata": {},
   "source": [
    "- `pyspark`:  interface for Apache Spark in Python\n",
    "  * `pyspark.sql`: provides the classes `SparkSession`, the entry point to programming Spark with the DataFrame API, and `functions`, which provides lots of methods to work on DatFrame, e.g. manipulating columns of a dataframe\n",
    "- `matplotlib.pyplot`: to plot the comparative bar plots among the three libraries\n",
    "- `pandas` and `polars`: are the two other libraries to compare each other. I had already installed `pandas` on my Anaconda base environment, but I had to installed `polars` by running `pip install polars` into my \"spark332\" virtual environment.\n",
    "- `time` is the basic library that I will use to measure the time\n",
    "\n",
    "In the next section I am explaining how I am going to measure executions times of the block of codes corresponding to the operations on DataFrame objects for each library of dataframes."
   ]
  },
  {
   "cell_type": "markdown",
   "id": "28ffad4d",
   "metadata": {},
   "source": [
    "## How do I measure time executions?\n",
    "To measure times I have used decorators in Python. Check out the definition below:"
   ]
  },
  {
   "cell_type": "code",
   "execution_count": 3,
   "id": "e1fbabec",
   "metadata": {
    "scrolled": true
   },
   "outputs": [],
   "source": [
    "def measure_time(parameter_function):\n",
    "    def wrapper_function(*args):\n",
    "        # Store start time\n",
    "        t_start = time.time()\n",
    "\n",
    "        # Run the parameter function. Returns nothing\n",
    "        parameter_function(*args)\n",
    "\n",
    "        # Store end time and computes elapsed time\n",
    "        t_end = time.time()\n",
    "        t = t_end - t_start\n",
    "\n",
    "        # Returns elapsed time\n",
    "        return t\n",
    "\n",
    "    return wrapper_function"
   ]
  },
  {
   "cell_type": "markdown",
   "id": "dadf43c3",
   "metadata": {},
   "source": [
    "The decorator function `measure_time` receives as parameter `parameter_function`, which performs the operation on the dataframe. `wrapper_function` actually receives as parameter `*args` the dataframe that `parameter_functions(*args)` will receive in turn. The most important thing is the code that *sandwiches* the parameter function: I am storing the time before and after running the operation. At the end I substract both times to obtain the elapsed time and I return it. So, if I tag each of functions with this decorator, the functions will return the measurement that I need to compare the APIs on a bar plot."
   ]
  },
  {
   "cell_type": "markdown",
   "id": "c4d3afc2",
   "metadata": {},
   "source": [
    "## Measurements\n",
    "For naming the functions I has followed this standard: `compute_time_x_y_x(dataframe)`, where *x* may be either *agg* (aggregation functions) or *filter* (filter operation), *y* may be *small* for the smallest dataset, *medium* for the medium one or *large* for the largest one, and *y* refers to the DataFrame API *spark*, *pandas* or *polars*. Parameter `dataframe` is the DataFrame object in each of the APIs.\n",
    "\n",
    "So the list of definitions are below:"
   ]
  },
  {
   "cell_type": "code",
   "execution_count": 4,
   "id": "bc7f11e2",
   "metadata": {
    "scrolled": true
   },
   "outputs": [],
   "source": [
    "@measure_time\n",
    "def compute_time_agg_small_spark(dataframe):\n",
    "    dataframe \\\n",
    "        .groupBy('Actor 1') \\\n",
    "        .agg(functions.count(\"*\")) \\\n",
    "        .withColumnRenamed('count(1)', 'count') \\\n",
    "        .sort(functions.desc('count')) \\\n",
    "        .show()\n",
    "\n",
    "\n",
    "@measure_time\n",
    "def compute_time_agg_small_pandas(dataframe):\n",
    "    # Group by 'Actor 1', get the count of each group and rename the column as 'Count'\n",
    "    grouped_dataframe = dataframe.groupby('Actor 1').size().reset_index(name='Count')\n",
    "\n",
    "    # Sort the DataFrame by the 'Count' column in descending order\n",
    "    sorted_dataframe = grouped_dataframe.sort_values(by=['Count'], ascending=False)\n",
    "\n",
    "    print(sorted_dataframe)\n",
    "\n",
    "\n",
    "@measure_time\n",
    "def compute_time_agg_small_polars(dataframe):\n",
    "    grouped_df = (dataframe\n",
    "                  .groupby('Actor 1')\n",
    "                  .agg(pl.count('Actor 1').alias('Count'))\n",
    "                  .sort('Count', descending=True)\n",
    "                  )\n",
    "\n",
    "    print(grouped_df)\n",
    "\n",
    "\n",
    "@measure_time\n",
    "def compute_time_agg_medium_spark(dataframe):\n",
    "    dataframe \\\n",
    "        .groupBy('Incident Day of Week') \\\n",
    "        .agg(functions.count(\"*\")) \\\n",
    "        .withColumnRenamed('count(1)', 'count') \\\n",
    "        .sort(functions.desc('count')) \\\n",
    "        .show()\n",
    "\n",
    "\n",
    "@measure_time\n",
    "def compute_time_agg_medium_pandas(dataframe):\n",
    "    # Group by 'Incident Day of Week', get the size of each group, rename the index to 'count'\n",
    "    grouped_df = dataframe.groupby('Incident Day of Week').size().reset_index(name='count')\n",
    "\n",
    "    # Sort the DataFrame by the 'count' column in descending order\n",
    "    sorted_df = grouped_df.sort_values(by=['count'], ascending=False)\n",
    "\n",
    "    print(sorted_df)\n",
    "\n",
    "\n",
    "@measure_time\n",
    "def compute_time_agg_medium_polars(dataframe):\n",
    "    grouped_df = (dataframe\n",
    "                  .groupby('Incident Day of Week')\n",
    "                  .agg(pl.count('Incident Day of Week').alias('count'))\n",
    "                  .sort('count', descending=True)\n",
    "                  )\n",
    "\n",
    "    print(grouped_df)\n",
    "\n",
    "\n",
    "@measure_time\n",
    "def compute_time_agg_large_spark(dataframe):\n",
    "    dataframe \\\n",
    "        .groupBy('Primary Type') \\\n",
    "        .agg(functions.count(\"*\")) \\\n",
    "        .withColumnRenamed('count(1)', 'count') \\\n",
    "        .sort(functions.desc('count')) \\\n",
    "        .show()\n",
    "\n",
    "\n",
    "@measure_time\n",
    "def compute_time_agg_large_pandas(dataframe):\n",
    "    # Group by 'Primary Type', get the count of each partition and rename the resulting column as 'count\n",
    "    grouped_df = dataframe.groupby('Primary Type').size().reset_index(name='count')\n",
    "\n",
    "    # Sort the DataFrame by the 'count' column in descending order\n",
    "    sorted_df = grouped_df.sort_values(by=['count'], ascending=False)\n",
    "\n",
    "    print(sorted_df)\n",
    "\n",
    "\n",
    "@measure_time\n",
    "def compute_time_agg_large_polars(dataframe):\n",
    "    grouped_df = (dataframe\n",
    "                  .groupby('Primary Type')\n",
    "                  .agg(pl.count('Primary Type').alias('count'))\n",
    "                  .sort('count', descending=True)\n",
    "                  )\n",
    "\n",
    "    print(grouped_df)\n",
    "\n",
    "\n",
    "@measure_time\n",
    "def compute_time_filter_small_spark(dataframe):\n",
    "    dataframe.filter((functions.col('Release Year') < '2000')\n",
    "                     & (functions.col('Director') == 'Steven Spielberg')\n",
    "                     & (functions.col('Actor 1') == 'Harrison Ford')) \\\n",
    "        .show()\n",
    "\n",
    "\n",
    "@measure_time\n",
    "def compute_time_filter_small_pandas(dataframe):\n",
    "    filtered_df = dataframe[(dataframe['Release Year'] < 2000) &\n",
    "                            (dataframe['Director'] == 'Steven Spielberg') &\n",
    "                            (dataframe['Actor 1'] == 'Harrison Ford')]\n",
    "\n",
    "    print(filtered_df)\n",
    "\n",
    "\n",
    "@measure_time\n",
    "def compute_time_filter_small_polars(dataframe):\n",
    "    filtered_df = dataframe.filter(\n",
    "        (pl.col(\"Release Year\") < 2000)\n",
    "        & (pl.col(\"Director\") == \"Steven Spielberg\")\n",
    "        & (pl.col(\"Actor 1\") == \"Harrison Ford\")\n",
    "    )\n",
    "\n",
    "    print(filtered_df)\n",
    "\n",
    "\n",
    "@measure_time\n",
    "def compute_time_filter_medium_spark(dataframe):\n",
    "    dataframe.filter((functions.col('Incident Time') < '6:00:00')\n",
    "                     & (functions.col('Incident Day of Week') == 'Saturday')\n",
    "                     & (functions.col('Incident Category') == 'Fire Report')) \\\n",
    "        .show()\n",
    "\n",
    "\n",
    "@measure_time\n",
    "def compute_time_filter_medium_pandas(dataframe):\n",
    "    filtered_df = dataframe[(dataframe['Incident Time'] < '6:00:00') &\n",
    "                            (dataframe['Incident Day of Week'] == 'Saturday') &\n",
    "                            (dataframe['Incident Category'] == 'Fire Report')]\n",
    "\n",
    "    print(filtered_df)\n",
    "\n",
    "\n",
    "@measure_time\n",
    "def compute_time_filter_medium_polars(dataframe):\n",
    "    filtered_df = dataframe.filter(\n",
    "        (pl.col(\"Incident Time\") < \"6:00:00\")\n",
    "        & (pl.col(\"Incident Day of Week\") == \"Saturday\")\n",
    "        & (pl.col(\"Incident Category\") == \"Fire Report\")\n",
    "    )\n",
    "\n",
    "    print(filtered_df)\n",
    "\n",
    "\n",
    "@measure_time\n",
    "def compute_time_filter_large_spark(dataframe):\n",
    "    dataframe.filter((functions.col('Primary Type') == 'MOTOR VEHICLE THEFT')\n",
    "                     & (functions.col('Location Description') == 'APARTMENT')\n",
    "                     & (functions.col('Arrest') == 'true')) \\\n",
    "        .show()\n",
    "\n",
    "\n",
    "@measure_time\n",
    "def compute_time_filter_large_pandas(dataframe):\n",
    "    filtered_df = dataframe[(dataframe['Primary Type'] == 'MOTOR VEHICLE THEFT') &\n",
    "                            (dataframe['Location Description'] == 'APARTMENT') &\n",
    "                            (dataframe['Arrest'] == True)]\n",
    "\n",
    "    print(filtered_df)\n",
    "\n",
    "\n",
    "@measure_time\n",
    "def compute_time_filter_large_polars(dataframe):\n",
    "    filtered_df = dataframe.filter((pl.col(\"Primary Type\") == \"MOTOR VEHICLE THEFT\") &\n",
    "                                   (pl.col(\"Location Description\") == \"APARTMENT\") &\n",
    "                                   (pl.col(\"Arrest\") == \"true\"))\n",
    "\n",
    "    print(filtered_df)"
   ]
  },
  {
   "cell_type": "markdown",
   "id": "7f78df72",
   "metadata": {},
   "source": [
    "## Function to plot the measurements\n",
    "I used the following function to compare, for each size of dataset and operation, the execution times by API."
   ]
  },
  {
   "cell_type": "code",
   "execution_count": 5,
   "id": "94ebdccf",
   "metadata": {
    "scrolled": true
   },
   "outputs": [],
   "source": [
    "def plot_times(x_labels, y_values, title):\n",
    "    # Create a new figure object\n",
    "    fig = plt.figure()\n",
    "\n",
    "    # Plot the bar chart\n",
    "    ax = fig.add_subplot(1, 1, 1)\n",
    "\n",
    "    bar_colors = ('orange', 'green', 'blue')\n",
    "    bars = ax.bar(x_labels, y_values, color=bar_colors)\n",
    "\n",
    "    ax.set_xlabel('API')\n",
    "    ax.set_ylabel('Execution time (s)')\n",
    "    ax.set_title(title)\n",
    "\n",
    "    formatted_values = ['{:.2f}'.format(value) for value in y_values]\n",
    "    ax.bar_label(bars, labels=formatted_values, label_type='edge')\n",
    "\n",
    "    plt.show()"
   ]
  },
  {
   "cell_type": "markdown",
   "id": "d1506e1b",
   "metadata": {},
   "source": [
    "## Issues I have run into during tests\n",
    "### Java heap runs out of memory\n",
    "The program returned me \"java.lang.OutOfMemoryError: Java heap space error\" when the Java Virtual Machine (JVM) ran out of memory in its heap space. The solution was to increase to 4 GB the memory cache by setting the `spark.executor.memory` and `spark.driver.memory` configuration properties.\n",
    "\n",
    "- `spark.executor.memory` sets the amount of memory allocated for each executor\n",
    "- `spark.driver.memory` sets the amount of memory allocated for the driver program\n",
    "\n",
    "To set these properties in PySpark I did this:"
   ]
  },
  {
   "cell_type": "code",
   "execution_count": 6,
   "id": "f3bf8ee0",
   "metadata": {
    "scrolled": true
   },
   "outputs": [],
   "source": [
    "spark_conf = SparkConf().setAppName(\"ComparativeStudy\") \\\n",
    "    .set(\"spark.executor.memory\", \"4g\") \\\n",
    "    .set(\"spark.driver.memory\", \"4g\")"
   ]
  },
  {
   "cell_type": "markdown",
   "id": "52093f24",
   "metadata": {},
   "source": [
    "Next to the previous code I created a Spark session along with some setting related to spam messages:"
   ]
  },
  {
   "cell_type": "code",
   "execution_count": 7,
   "id": "980c357c",
   "metadata": {
    "scrolled": true
   },
   "outputs": [],
   "source": [
    "spark_session = SparkSession.builder.config(conf=spark_conf).master(\"local[6]\").getOrCreate()\n",
    "\n",
    "logger = spark_session._jvm.org.apache.log4j\n",
    "logger.LogManager.getLogger(\"org\").setLevel(logger.Level.WARN)"
   ]
  },
  {
   "cell_type": "markdown",
   "id": "61307dbb",
   "metadata": {},
   "source": [
    "## Load of CSV input files into DataFrame objects for each API\n",
    "To load the dataframes for Spark and Pandas I have created a specific function for each one."
   ]
  },
  {
   "cell_type": "code",
   "execution_count": 8,
   "id": "90a2b625",
   "metadata": {
    "scrolled": true
   },
   "outputs": [],
   "source": [
    "def load_small_spark(spark_session, path_to_file, delimiter):\n",
    "    return spark_session \\\n",
    "        .read \\\n",
    "        .options(header='true', inferschema='false') \\\n",
    "        .option(\"delimiter\", delimiter) \\\n",
    "        .csv(path_to_file) \\\n",
    "        .persist()\n",
    "\n",
    "\n",
    "def load_medium_spark(spark_session, path_to_file, delimiter):\n",
    "    return spark_session \\\n",
    "        .read \\\n",
    "        .options(header='true', inferschema='false') \\\n",
    "        .option(\"delimiter\", delimiter) \\\n",
    "        .csv(path_to_file) \\\n",
    "        .persist()\n",
    "\n",
    "\n",
    "def load_large_spark(spark_session, path_to_file, delimiter):\n",
    "    return spark_session \\\n",
    "        .read \\\n",
    "        .options(header='true', inferschema='false') \\\n",
    "        .option(\"delimiter\", delimiter) \\\n",
    "        .csv(path_to_file) \\\n",
    "        .persist()\n",
    "\n",
    "\n",
    "def load_small_pandas(path_to_file, delimiter):\n",
    "    return pd.read_csv(path_to_file, delimiter=delimiter)\n",
    "\n",
    "\n",
    "def load_medium_pandas(path_to_file, delimiter):\n",
    "    return pd.read_csv(path_to_file, delimiter=delimiter)\n",
    "\n",
    "\n",
    "def load_large_pandas(path_to_file, delimiter):\n",
    "    return pd.read_csv(path_to_file, delimiter=delimiter)"
   ]
  },
  {
   "cell_type": "markdown",
   "id": "418dcaaa",
   "metadata": {},
   "source": [
    "For loading Polars dataframe I opted for doing it from Pandas dataframe. The load of data is shown below:"
   ]
  },
  {
   "cell_type": "code",
   "execution_count": 9,
   "id": "fd16cffa",
   "metadata": {
    "scrolled": true
   },
   "outputs": [],
   "source": [
    "small_dataframe_spark = load_small_spark(spark_session, \"data/films_san_francisco.csv\", \",\")\n",
    "medium_dataframe_spark = load_medium_spark(spark_session, \"data/crimes_san_francisco.csv\", \",\")\n",
    "large_dataframe_spark = load_large_spark(spark_session, \"data/crimes_chicago.csv\", \",\")\n",
    "\n",
    "small_dataframe_pandas = load_small_pandas(\"data/films_san_francisco.csv\", \",\")\n",
    "medium_dataframe_pandas = load_medium_pandas(\"data/crimes_san_francisco.csv\", \",\")\n",
    "large_dataframe_pandas = load_large_pandas(\"data/crimes_chicago.csv\", \",\")\n",
    "\n",
    "small_dataframe_polars = pl.from_pandas(small_dataframe_pandas)\n",
    "medium_dataframe_polars = pl.from_pandas(medium_dataframe_pandas)\n",
    "large_dataframe_polars = pl.from_pandas(large_dataframe_pandas)"
   ]
  },
  {
   "cell_type": "markdown",
   "id": "16e12708",
   "metadata": {},
   "source": [
    "## Measurements of times\n",
    "### Measurement 1: functions of aggregation"
   ]
  },
  {
   "cell_type": "code",
   "execution_count": 10,
   "id": "b59dd8fa",
   "metadata": {
    "scrolled": false
   },
   "outputs": [
    {
     "name": "stdout",
     "output_type": "stream",
     "text": [
      "+--------------------+-----+\n",
      "|             Actor 1|count|\n",
      "+--------------------+-----+\n",
      "|      Jonathan Groff|  125|\n",
      "|         Hugh Laurie|  114|\n",
      "|      Clint Eastwood|   78|\n",
      "|          Taye Diggs|   58|\n",
      "|                null|   52|\n",
      "|       Jamie Clayton|   42|\n",
      "|     Michael Douglas|   40|\n",
      "|         Adam Devine|   39|\n",
      "|           Tom Hardy|   37|\n",
      "|        Jimmie Fails|   33|\n",
      "|       Sonoya Mizuno|   32|\n",
      "|        Keanu Reeves|   31|\n",
      "|      Dwayne Johnson|   31|\n",
      "|Arnold Schwarzene...|   31|\n",
      "|      Cate Blanchett|   28|\n",
      "|           Brian Cox|   28|\n",
      "|     Craig Tsuyumine|   25|\n",
      "|           Paul Rudd|   24|\n",
      "|    Malcolm McDowell|   24|\n",
      "|        Brit Marling|   23|\n",
      "+--------------------+-----+\n",
      "only showing top 20 rows\n",
      "\n",
      "               Actor 1  Count\n",
      "124     Jonathan Groff    125\n",
      "95         Hugh Laurie    114\n",
      "50      Clint Eastwood     80\n",
      "222         Taye Diggs     58\n",
      "106      Jamie Clayton     42\n",
      "..                 ...    ...\n",
      "110  Jennifer Connelly      1\n",
      "109        Jenn Gotzon      1\n",
      "107         Jane Fonda      1\n",
      "105        James Woods      1\n",
      "122          John Wynn      1\n",
      "\n",
      "[245 rows x 2 columns]\n",
      "shape: (246, 2)\n",
      "┌───────────────────┬───────┐\n",
      "│ Actor 1           ┆ Count │\n",
      "│ ---               ┆ ---   │\n",
      "│ str               ┆ u32   │\n",
      "╞═══════════════════╪═══════╡\n",
      "│ Jonathan Groff    ┆ 125   │\n",
      "│ Hugh Laurie       ┆ 114   │\n",
      "│ Clint Eastwood    ┆ 80    │\n",
      "│ Taye Diggs        ┆ 58    │\n",
      "│ …                 ┆ …     │\n",
      "│ Elizabeth Daily   ┆ 1     │\n",
      "│ Mark Hefti        ┆ 1     │\n",
      "│ Jack Nicholson    ┆ 1     │\n",
      "│ Jennifer Connelly ┆ 1     │\n",
      "└───────────────────┴───────┘\n",
      "+--------------------+------+\n",
      "|Incident Day of Week| count|\n",
      "+--------------------+------+\n",
      "|              Friday|109261|\n",
      "|           Wednesday|105991|\n",
      "|            Thursday|102038|\n",
      "|              Monday|100861|\n",
      "|            Saturday|100534|\n",
      "|             Tuesday|100450|\n",
      "|              Sunday| 93972|\n",
      "+--------------------+------+\n",
      "\n",
      "  Incident Day of Week   count\n",
      "0               Friday  109261\n",
      "6            Wednesday  105991\n",
      "4             Thursday  102038\n",
      "1               Monday  100861\n",
      "2             Saturday  100534\n",
      "5              Tuesday  100450\n",
      "3               Sunday   93972\n",
      "shape: (7, 2)\n",
      "┌──────────────────────┬────────┐\n",
      "│ Incident Day of Week ┆ count  │\n",
      "│ ---                  ┆ ---    │\n",
      "│ str                  ┆ u32    │\n",
      "╞══════════════════════╪════════╡\n",
      "│ Friday               ┆ 109261 │\n",
      "│ Wednesday            ┆ 105991 │\n",
      "│ Thursday             ┆ 102038 │\n",
      "│ Monday               ┆ 100861 │\n",
      "│ Saturday             ┆ 100534 │\n",
      "│ Tuesday              ┆ 100450 │\n",
      "│ Sunday               ┆ 93972  │\n",
      "└──────────────────────┴────────┘\n",
      "+--------------------+-------+\n",
      "|        Primary Type|  count|\n",
      "+--------------------+-------+\n",
      "|               THEFT|1637995|\n",
      "|             BATTERY|1419573|\n",
      "|     CRIMINAL DAMAGE| 884908|\n",
      "|           NARCOTICS| 747000|\n",
      "|             ASSAULT| 505593|\n",
      "|       OTHER OFFENSE| 482465|\n",
      "|            BURGLARY| 423900|\n",
      "| MOTOR VEHICLE THEFT| 373245|\n",
      "|  DECEPTIVE PRACTICE| 343409|\n",
      "|             ROBBERY| 291659|\n",
      "|   CRIMINAL TRESPASS| 213969|\n",
      "|   WEAPONS VIOLATION| 105747|\n",
      "|        PROSTITUTION|  69834|\n",
      "|OFFENSE INVOLVING...|  55563|\n",
      "|PUBLIC PEACE VIOL...|  52243|\n",
      "|         SEX OFFENSE|  30559|\n",
      "| CRIM SEXUAL ASSAULT|  27643|\n",
      "|INTERFERENCE WITH...|  18328|\n",
      "|LIQUOR LAW VIOLATION|  14889|\n",
      "|            GAMBLING|  14618|\n",
      "+--------------------+-------+\n",
      "only showing top 20 rows\n",
      "\n",
      "                         Primary Type    count\n",
      "34                              THEFT  1637995\n",
      "2                             BATTERY  1419573\n",
      "6                     CRIMINAL DAMAGE   884908\n",
      "19                          NARCOTICS   747000\n",
      "1                             ASSAULT   505593\n",
      "26                      OTHER OFFENSE   482465\n",
      "3                            BURGLARY   423900\n",
      "18                MOTOR VEHICLE THEFT   373245\n",
      "9                  DECEPTIVE PRACTICE   343409\n",
      "31                            ROBBERY   291659\n",
      "8                   CRIMINAL TRESPASS   213969\n",
      "35                  WEAPONS VIOLATION   105747\n",
      "27                       PROSTITUTION    69834\n",
      "24         OFFENSE INVOLVING CHILDREN    55563\n",
      "29             PUBLIC PEACE VIOLATION    52243\n",
      "32                        SEX OFFENSE    30559\n",
      "5                 CRIM SEXUAL ASSAULT    27643\n",
      "14   INTERFERENCE WITH PUBLIC OFFICER    18328\n",
      "17               LIQUOR LAW VIOLATION    14889\n",
      "11                           GAMBLING    14618\n",
      "0                               ARSON    13215\n",
      "12                           HOMICIDE    12498\n",
      "16                         KIDNAPPING     7209\n",
      "7             CRIMINAL SEXUAL ASSAULT     6537\n",
      "33                           STALKING     4752\n",
      "15                       INTIMIDATION     4664\n",
      "4   CONCEALED CARRY LICENSE VIOLATION     1065\n",
      "23                          OBSCENITY      815\n",
      "28                   PUBLIC INDECENCY      194\n",
      "21                       NON-CRIMINAL      181\n",
      "25           OTHER NARCOTIC VIOLATION      149\n",
      "13                  HUMAN TRAFFICKING      100\n",
      "20                     NON - CRIMINAL       38\n",
      "30                          RITUALISM       24\n",
      "22   NON-CRIMINAL (SUBJECT SPECIFIED)        9\n",
      "10                  DOMESTIC VIOLENCE        1\n",
      "shape: (36, 2)\n",
      "┌──────────────────────────────────┬─────────┐\n",
      "│ Primary Type                     ┆ count   │\n",
      "│ ---                              ┆ ---     │\n",
      "│ str                              ┆ u32     │\n",
      "╞══════════════════════════════════╪═════════╡\n",
      "│ THEFT                            ┆ 1637995 │\n",
      "│ BATTERY                          ┆ 1419573 │\n",
      "│ CRIMINAL DAMAGE                  ┆ 884908  │\n",
      "│ NARCOTICS                        ┆ 747000  │\n",
      "│ …                                ┆ …       │\n",
      "│ NON - CRIMINAL                   ┆ 38      │\n",
      "│ RITUALISM                        ┆ 24      │\n",
      "│ NON-CRIMINAL (SUBJECT SPECIFIED) ┆ 9       │\n",
      "│ DOMESTIC VIOLENCE                ┆ 1       │\n",
      "└──────────────────────────────────┴─────────┘\n"
     ]
    }
   ],
   "source": [
    "elapsed_time_agg_small_spark = compute_time_agg_small_spark(small_dataframe_spark)\n",
    "elapsed_time_agg_small_pandas = compute_time_agg_small_pandas(small_dataframe_pandas)\n",
    "elapsed_time_agg_small_polars = compute_time_agg_small_polars(small_dataframe_polars)\n",
    "\n",
    "elapsed_time_agg_medium_spark = compute_time_agg_medium_spark(medium_dataframe_spark)\n",
    "elapsed_time_agg_medium_pandas = compute_time_agg_medium_pandas(medium_dataframe_pandas)\n",
    "elapsed_time_agg_medium_polars = compute_time_agg_medium_polars(medium_dataframe_polars)\n",
    "\n",
    "elapsed_time_agg_large_spark = compute_time_agg_large_spark(large_dataframe_spark)\n",
    "elapsed_time_agg_large_pandas = compute_time_agg_large_pandas(large_dataframe_pandas)\n",
    "elapsed_time_agg_large_polars = compute_time_agg_large_polars(large_dataframe_polars)"
   ]
  },
  {
   "cell_type": "markdown",
   "id": "8eb77826",
   "metadata": {},
   "source": [
    "### Measurement 2: filtering"
   ]
  },
  {
   "cell_type": "code",
   "execution_count": 11,
   "id": "b0216540",
   "metadata": {
    "scrolled": false
   },
   "outputs": [
    {
     "name": "stdout",
     "output_type": "stream",
     "text": [
      "+--------------------+------------+--------------------+--------------------+------------------+------------------+----------------+------------+-------------+------------+-------+\n",
      "|               Title|Release Year|           Locations|           Fun Facts|Production Company|       Distributor|        Director|      Writer|      Actor 1|     Actor 2|Actor 3|\n",
      "+--------------------+------------+--------------------+--------------------+------------------+------------------+----------------+------------+-------------+------------+-------+\n",
      "|Indiana Jones and...|        1989|Administration Bu...|An artificial isl...|Paramount Pictures|Paramount Pictures|Steven Spielberg|Jeffrey Boam|Harrison Ford|Sean Connery|   null|\n",
      "+--------------------+------------+--------------------+--------------------+------------------+------------------+----------------+------------+-------------+------------+-------+\n",
      "\n",
      "                                  Title  Release Year  \\\n",
      "795  Indiana Jones and the Last Crusade          1989   \n",
      "\n",
      "                                     Locations  \\\n",
      "795  Administration Building (Treasure Island)   \n",
      "\n",
      "                                             Fun Facts  Production Company  \\\n",
      "795  An artificial island, Treasure Island was crea...  Paramount Pictures   \n",
      "\n",
      "            Distributor          Director        Writer        Actor 1  \\\n",
      "795  Paramount Pictures  Steven Spielberg  Jeffrey Boam  Harrison Ford   \n",
      "\n",
      "          Actor 2 Actor 3  \n",
      "795  Sean Connery     NaN  \n",
      "shape: (1, 11)\n",
      "┌───────────┬────────────┬───────────┬───────────┬───┬───────────┬───────────┬───────────┬─────────┐\n",
      "│ Title     ┆ Release    ┆ Locations ┆ Fun Facts ┆ … ┆ Writer    ┆ Actor 1   ┆ Actor 2   ┆ Actor 3 │\n",
      "│ ---       ┆ Year       ┆ ---       ┆ ---       ┆   ┆ ---       ┆ ---       ┆ ---       ┆ ---     │\n",
      "│ str       ┆ ---        ┆ str       ┆ str       ┆   ┆ str       ┆ str       ┆ str       ┆ str     │\n",
      "│           ┆ i64        ┆           ┆           ┆   ┆           ┆           ┆           ┆         │\n",
      "╞═══════════╪════════════╪═══════════╪═══════════╪═══╪═══════════╪═══════════╪═══════════╪═════════╡\n",
      "│ Indiana   ┆ 1989       ┆ Administr ┆ An artifi ┆ … ┆ Jeffrey   ┆ Harrison  ┆ Sean      ┆ null    │\n",
      "│ Jones and ┆            ┆ ation     ┆ cial      ┆   ┆ Boam      ┆ Ford      ┆ Connery   ┆         │\n",
      "│ the Last  ┆            ┆ Building  ┆ island,   ┆   ┆           ┆           ┆           ┆         │\n",
      "│ Crusa…    ┆            ┆ (Treasur… ┆ Treasure  ┆   ┆           ┆           ┆           ┆         │\n",
      "│           ┆            ┆           ┆ I…        ┆   ┆           ┆           ┆           ┆         │\n",
      "└───────────┴────────────┴───────────┴───────────┴───┴───────────┴───────────┴───────────┴─────────┘\n",
      "+--------------------+-------------+-------------+-------------+--------------------+--------------------+------------+-----------+---------------+----------+----------------+-----------------------+------------+-------------+-----------------+--------------------+--------------------+--------------+--------------------+--------+---------------+---------------------+-------------------+------------------------+------------------+-------------------+--------------------+-------------+----------------------+----------------------------------------------------+--------------------------------------------+---------------------------+-----------------------------------+----------------------------+------------------------+\n",
      "|   Incident Datetime|Incident Date|Incident Time|Incident Year|Incident Day of Week|     Report Datetime|      Row ID|Incident ID|Incident Number|CAD Number|Report Type Code|Report Type Description|Filed Online|Incident Code|Incident Category|Incident Subcategory|Incident Description|    Resolution|        Intersection|     CNN|Police District|Analysis Neighborhood|Supervisor District|Supervisor District 2012|          Latitude|          Longitude|               Point|Neighborhoods|ESNCAG - Boundary File|Central Market/Tenderloin Boundary Polygon - Updated|Civic Center Harm Reduction Project Boundary|HSOC Zones as of 2018-06-05|Invest In Neighborhoods (IIN) Areas|Current Supervisor Districts|Current Police Districts|\n",
      "+--------------------+-------------+-------------+-------------+--------------------+--------------------+------------+-----------+---------------+----------+----------------+-----------------------+------------+-------------+-----------------+--------------------+--------------------+--------------+--------------------+--------+---------------+---------------------+-------------------+------------------------+------------------+-------------------+--------------------+-------------+----------------------+----------------------------------------------------+--------------------------------------------+---------------------------+-----------------------------------+----------------------------+------------------------+\n",
      "|2023/03/25 06:30:...|   2023/03/25|        18:30|         2023|            Saturday|2023/03/25 06:52:...|125797168000|    1257971|      230209498| 230842594|              II|                Initial|        null|        68000|      Fire Report|         Fire Report|         Fire Report|Open or Active|TOLAND ST \\ OAKDA...|20803000|        Bayview| Bayview Hunters P...|                 10|                      10| 37.74096192703731| -122.4015557018139|POINT (-122.40155...|           82|                  null|                                                null|                                        null|                       null|                               null|                           9|                       2|\n",
      "|2021/11/13 08:33:...|   2021/11/13|        20:33|         2021|            Saturday|2021/11/13 08:33:...|109121268000|    1091212|      210748870| 213173129|              II|                Initial|        null|        68000|      Fire Report|         Fire Report|         Fire Report|Open or Active|   DELANCEY ST \\ END|35003000|       Southern| Financial Distric...|                  6|                       6|37.784774779704144|-122.39116559467018|POINT (-122.39116...|           31|                     1|                                                null|                                        null|                       null|                               null|                          10|                       1|\n",
      "|2019/12/14 01:37:...|   2019/12/14|        01:37|         2019|            Saturday|2019/12/16 08:10:...| 88397268000|     883972|      190939185| 193480225|              IS|     Initial Supplement|        null|        68000|      Fire Report|         Fire Report|         Fire Report|     Unfounded|04TH ST \\ MISSION...|34169000|       Southern|          Mission Bay|                  6|                       6| 37.77283099431839|-122.39137353346597|POINT (-122.39137...|           34|                  null|                                                null|                                        null|                       null|                               null|                          10|                       1|\n",
      "|2021/11/27 10:00:...|   2021/11/27|        10:00|         2021|            Saturday|2021/11/27 10:02:...|109577168000|    1095771|      210782232| 213310885|              II|                Initial|        null|        68000|      Fire Report|         Fire Report|         Fire Report|Open or Active|STEVENSON ST \\ 14...|24381000|        Mission|              Mission|                  9|                       9| 37.76819010858081|-122.42136452349546|POINT (-122.42136...|           53|                  null|                                                null|                                        null|                          3|                               null|                           2|                       3|\n",
      "|2021/10/09 08:46:...|   2021/10/09|        08:46|         2021|            Saturday|2021/10/09 09:14:...|107881768000|    1078817|      210658473| 212820810|              II|                Initial|        null|        68000|      Fire Report|         Fire Report|         Fire Report|Open or Active|   ELM ST \\ GOUGH ST|25943000|       Northern|     Western Addition|                  5|                       5| 37.78107768298222|-122.42382522763067|POINT (-122.42382...|          100|                  null|                                                null|                                           1|                          1|                               null|                          11|                       4|\n",
      "|2022/12/03 01:09:...|   2022/12/03|        01:09|         2022|            Saturday|2022/12/03 01:09:...|122073168000|    1220731|      220829448| 223370177|              II|                Initial|        null|        68000|      Fire Report|         Fire Report|         Fire Report|Open or Active|BLUXOME ST \\ 05TH ST|23824000|       Southern|          Mission Bay|                  6|                       6|  37.7759412206594|-122.39796947621387|POINT (-122.39796...|           32|                  null|                                                null|                                        null|                       null|                               null|                          10|                       1|\n",
      "|2021/06/05 02:00:...|   2021/06/05|        02:00|         2021|            Saturday|2021/06/05 02:06:...|103712768000|    1037127|      210348022| 211560224|              II|                Initial|        null|        68000|      Fire Report|         Fire Report|         Fire Report|Open or Active|EDDY ST \\ VAN NES...|25186000|       Northern|           Tenderloin|                  5|                       6| 37.78289412114938|-122.42081700428415|POINT (-122.42081...|           20|                  null|                                                null|                                           1|                       null|                               null|                          10|                       4|\n",
      "|2021/09/04 03:00:...|   2021/09/04|        03:00|         2021|            Saturday|2021/09/04 03:01:...|106693368000|    1066933|      210569024| 212470433|              II|                Initial|        null|        68000|      Fire Report|         Fire Report|         Fire Report|Open or Active|CESAR CHAVEZ ST \\...|23612000|        Bayview| Bayview Hunters P...|                 10|                      10| 37.74991515734683|-122.39334026694655|POINT (-122.39334...|           56|                  null|                                                null|                                        null|                       null|                               null|                           9|                       2|\n",
      "|2021/02/27 02:14:...|   2021/02/27|        02:14|         2021|            Saturday|2021/07/27 02:15:...|105416568000|    1054165|      210473920| 212080194|              II|                Initial|        null|        68000|      Fire Report|         Fire Report|         Fire Report|Open or Active|NEWCOMB AVE \\ PHE...|20674000|        Bayview| Bayview Hunters P...|                 10|                      10| 37.73735075710154|-122.39352363301738|POINT (-122.39352...|           86|                  null|                                                null|                                        null|                       null|                               null|                           9|                       2|\n",
      "|2021/09/04 01:21:...|   2021/09/04|        01:21|         2021|            Saturday|2021/09/04 01:21:...|106690968000|    1066909|      210568935| 212470227|              II|                Initial|        null|        68000|      Fire Report|         Fire Report|         Fire Report|Open or Active|CUSTER AVE \\ QUIN...|20252000|        Bayview| Bayview Hunters P...|                 10|                      10| 37.74529840818052|-122.38919329994268|POINT (-122.38919...|           56|                  null|                                                null|                                        null|                       null|                               null|                           9|                       2|\n",
      "|2021/12/11 08:12:...|   2021/12/11|        20:12|         2021|            Saturday|2021/12/11 08:12:...|110146568000|    1101465|      210819948| 213453225|              II|                Initial|        null|        68000|      Fire Report|         Fire Report|         Fire Report|Open or Active|JACKSON ST \\ COLU...|24766000|        Central|            Chinatown|                  3|                       3|37.796302097343386|-122.40441216196413|POINT (-122.40441...|          106|                  null|                                                null|                                        null|                       null|                               null|                           3|                       6|\n",
      "|2021/12/11 05:09:...|   2021/12/11|        05:09|         2021|            Saturday|2021/12/11 05:18:...|110130668000|    1101306|      210818467| 213450467|              II|                Initial|        null|        68000|      Fire Report|         Fire Report|         Fire Report|Open or Active|NEWCOMB AVE \\ BAR...|20806000|        Bayview| Bayview Hunters P...|                 10|                      10| 37.74312376235638|-122.40327519404315|POINT (-122.40327...|           85|                  null|                                                null|                                        null|                       null|                               null|                           9|                       2|\n",
      "|2021/09/18 07:31:...|   2021/09/18|        07:31|         2021|            Saturday|2021/09/18 07:31:...|107173868000|    1071738|      210604589| 212610609|              II|                Initial|        null|        68000|      Fire Report|         Fire Report|         Fire Report|Open or Active|16TH ST \\ FLORIDA ST|24049000|        Mission|              Mission|                  9|                       9| 37.76554760356426|-122.41145526354411|POINT (-122.41145...|           53|                  null|                                                null|                                        null|                          3|                               null|                           2|                       3|\n",
      "|2021/09/18 11:56:...|   2021/09/18|        23:56|         2021|            Saturday|2021/09/18 11:56:...|107189568000|    1071895|      210606529| 212613559|              II|                Initial|        null|        68000|      Fire Report|         Fire Report|         Fire Report|Open or Active| 24TH ST \\ POPLAR ST|24107000|        Mission|              Mission|                  9|                       8|37.752074434177075|-122.42114296980318|POINT (-122.42114...|           53|                  null|                                                null|                                        null|                       null|                               null|                           5|                       3|\n",
      "|2021/12/04 11:14:...|   2021/12/04|        23:14|         2021|            Saturday|2021/12/04 11:14:...|109875068000|    1098750|      210801810| 213383531|              II|                Initial|        null|        68000|      Fire Report|         Fire Report|         Fire Report|Open or Active|STOCKTON ST \\ OFA...|24902000|        Central| Financial Distric...|                  3|                       3|37.786615346301794|-122.40639887891692|POINT (-122.40639...|           19|                  null|                                                null|                                        null|                       null|                               null|                           3|                       6|\n",
      "|2021/09/25 10:15:...|   2021/09/25|        22:15|         2021|            Saturday|2021/09/25 10:24:...|107428868000|    1074288|      210624264| 212683349|              II|                Initial|        null|        68000|      Fire Report|         Fire Report|         Fire Report|Open or Active|CALEDONIA ST \\ 16...|24184000|        Mission|              Mission|                  9|                       9| 37.76494788696337|-122.42138147669485|POINT (-122.42138...|           53|                  null|                                                null|                                        null|                          3|                               null|                           2|                       3|\n",
      "|2022/01/22 12:27:...|   2022/01/22|        00:27|         2022|            Saturday|2022/01/22 12:27:...|111396368000|    1113963|      220047173| 220220056|              II|                Initial|        null|        68000|      Fire Report|         Fire Report|         Fire Report|Open or Active|FOREST VIEW DR \\ ...|23125000|        Taraval|            Lakeshore|                  4|                       7|  37.7310799713596|-122.48354489158451|POINT (-122.48354...|           62|                  null|                                                null|                                        null|                       null|                               null|                           8|                      10|\n",
      "|2021/12/11 11:48:...|   2021/12/11|        23:48|         2021|            Saturday|2021/12/11 11:48:...|110147768000|    1101477|      210820218| 213453847|              II|                Initial|        null|        68000|      Fire Report|         Fire Report|         Fire Report|Open or Active|JACKSON ST \\ COLU...|24766000|        Central|            Chinatown|                  3|                       3|37.796302097343386|-122.40441216196413|POINT (-122.40441...|          106|                  null|                                                null|                                        null|                       null|                               null|                           3|                       6|\n",
      "|2021/11/06 05:04:...|   2021/11/06|        17:04|         2021|            Saturday|2021/11/06 05:12:...|108898968000|    1088989|      210730877| 213102348|              II|                Initial|        null|        68000|      Fire Report|         Fire Report|         Fire Report|Open or Active|TRUMBULL ST \\ CRA...|21697000|      Ingleside|            Excelsior|                 11|                      11| 37.73078874215092|-122.42838994658086|POINT (-122.42838...|           94|                  null|                                                null|                                        null|                       null|                               null|                           1|                       9|\n",
      "|2021/09/18 04:56:...|   2021/09/18|        16:56|         2021|            Saturday|2021/09/18 05:03:...|107188168000|    1071881|      210605797| 212612355|              II|                Initial|        null|        68000|      Fire Report|         Fire Report|         Fire Report|Open or Active|GALLAGHER LN \\ CL...|24626000|       Southern|      South of Market|                  6|                       6| 37.78154661930716| -122.4028493598664|POINT (-122.40284...|           32|                  null|                                                null|                                        null|                       null|                               null|                          10|                       1|\n",
      "+--------------------+-------------+-------------+-------------+--------------------+--------------------+------------+-----------+---------------+----------+----------------+-----------------------+------------+-------------+-----------------+--------------------+--------------------+--------------+--------------------+--------+---------------+---------------------+-------------------+------------------------+------------------+-------------------+--------------------+-------------+----------------------+----------------------------------------------------+--------------------------------------------+---------------------------+-----------------------------------+----------------------------+------------------------+\n",
      "only showing top 20 rows\n",
      "\n",
      "             Incident Datetime Incident Date Incident Time  Incident Year  \\\n",
      "2757    2023/03/25 06:30:00 PM    2023/03/25         18:30           2023   \n",
      "17157   2021/11/13 08:33:00 PM    2021/11/13         20:33           2021   \n",
      "19385   2019/12/14 01:37:00 AM    2019/12/14         01:37           2019   \n",
      "26730   2021/11/27 10:00:00 AM    2021/11/27         10:00           2021   \n",
      "31168   2021/10/09 08:46:00 AM    2021/10/09         08:46           2021   \n",
      "...                        ...           ...           ...            ...   \n",
      "694802  2021/06/19 07:06:00 PM    2021/06/19         19:06           2021   \n",
      "705704  2021/08/21 06:13:00 PM    2021/08/21         18:13           2021   \n",
      "707511  2021/06/12 07:35:00 PM    2021/06/12         19:35           2021   \n",
      "710261  2021/05/15 06:40:00 AM    2021/05/15         06:40           2021   \n",
      "712186  2021/08/21 02:39:00 AM    2021/08/21         02:39           2021   \n",
      "\n",
      "       Incident Day of Week         Report Datetime        Row ID  \\\n",
      "2757               Saturday  2023/03/25 06:52:00 PM  125797168000   \n",
      "17157              Saturday  2021/11/13 08:33:00 PM  109121268000   \n",
      "19385              Saturday  2019/12/16 08:10:00 AM   88397268000   \n",
      "26730              Saturday  2021/11/27 10:02:00 AM  109577168000   \n",
      "31168              Saturday  2021/10/09 09:14:00 AM  107881768000   \n",
      "...                     ...                     ...           ...   \n",
      "694802             Saturday  2021/06/19 07:06:00 PM  104185668000   \n",
      "705704             Saturday  2021/08/21 08:34:00 PM  106249368000   \n",
      "707511             Saturday  2021/06/12 07:53:00 PM  103965968000   \n",
      "710261             Saturday  2021/05/15 08:45:00 AM  103043968000   \n",
      "712186             Saturday  2021/08/21 02:39:00 AM  106230368000   \n",
      "\n",
      "        Incident ID  Incident Number   CAD Number  ...   Longitude  \\\n",
      "2757        1257971        230209498  230842594.0  ... -122.401556   \n",
      "17157       1091212        210748870  213173129.0  ... -122.391166   \n",
      "19385        883972        190939185  193480225.0  ... -122.391374   \n",
      "26730       1095771        210782232  213310885.0  ... -122.421365   \n",
      "31168       1078817        210658473  212820810.0  ... -122.423825   \n",
      "...             ...              ...          ...  ...         ...   \n",
      "694802      1041856        210383921  211702743.0  ... -122.426390   \n",
      "705704      1062493        210536023  212332898.0  ... -122.422788   \n",
      "707511      1039659        210366585  211632779.0  ... -122.444219   \n",
      "710261      1030439        210298085  211350707.0  ... -122.422369   \n",
      "712186      1062303        210534481  212330266.0  ... -122.420255   \n",
      "\n",
      "                                                 Point Neighborhoods  \\\n",
      "2757      POINT (-122.4015557018139 37.74096192703731)          82.0   \n",
      "17157   POINT (-122.39116559467018 37.784774779704144)          31.0   \n",
      "19385    POINT (-122.39137353346597 37.77283099431839)          34.0   \n",
      "26730    POINT (-122.42136452349546 37.76819010858081)          53.0   \n",
      "31168    POINT (-122.42382522763067 37.78107768298222)         100.0   \n",
      "...                                                ...           ...   \n",
      "694802   POINT (-122.42639027172821 37.71856072437154)          90.0   \n",
      "705704   POINT (-122.42278763487914 37.77594986170828)          22.0   \n",
      "707511   POINT (-122.44421890750894 37.75558385919571)          47.0   \n",
      "710261  POINT (-122.42236949505478 37.782219236755296)         100.0   \n",
      "712186  POINT (-122.42025546027398 37.780576217006235)          21.0   \n",
      "\n",
      "        ESNCAG - Boundary File  \\\n",
      "2757                       NaN   \n",
      "17157                      1.0   \n",
      "19385                      NaN   \n",
      "26730                      NaN   \n",
      "31168                      NaN   \n",
      "...                        ...   \n",
      "694802                     NaN   \n",
      "705704                     NaN   \n",
      "707511                     NaN   \n",
      "710261                     NaN   \n",
      "712186                     NaN   \n",
      "\n",
      "       Central Market/Tenderloin Boundary Polygon - Updated  \\\n",
      "2757                                                  NaN     \n",
      "17157                                                 NaN     \n",
      "19385                                                 NaN     \n",
      "26730                                                 NaN     \n",
      "31168                                                 NaN     \n",
      "...                                                   ...     \n",
      "694802                                                NaN     \n",
      "705704                                                NaN     \n",
      "707511                                                NaN     \n",
      "710261                                                NaN     \n",
      "712186                                                1.0     \n",
      "\n",
      "       Civic Center Harm Reduction Project Boundary  \\\n",
      "2757                                            NaN   \n",
      "17157                                           NaN   \n",
      "19385                                           NaN   \n",
      "26730                                           NaN   \n",
      "31168                                           1.0   \n",
      "...                                             ...   \n",
      "694802                                          NaN   \n",
      "705704                                          1.0   \n",
      "707511                                          NaN   \n",
      "710261                                          1.0   \n",
      "712186                                          1.0   \n",
      "\n",
      "       HSOC Zones as of 2018-06-05 Invest In Neighborhoods (IIN) Areas  \\\n",
      "2757                           NaN                                 NaN   \n",
      "17157                          NaN                                 NaN   \n",
      "19385                          NaN                                 NaN   \n",
      "26730                          3.0                                 NaN   \n",
      "31168                          1.0                                 NaN   \n",
      "...                            ...                                 ...   \n",
      "694802                         NaN                                 NaN   \n",
      "705704                         1.0                                 NaN   \n",
      "707511                         NaN                                 NaN   \n",
      "710261                         NaN                                 NaN   \n",
      "712186                         1.0                                 NaN   \n",
      "\n",
      "       Current Supervisor Districts  Current Police Districts  \n",
      "2757                            9.0                       2.0  \n",
      "17157                          10.0                       1.0  \n",
      "19385                          10.0                       1.0  \n",
      "26730                           2.0                       3.0  \n",
      "31168                          11.0                       4.0  \n",
      "...                             ...                       ...  \n",
      "694802                          1.0                       9.0  \n",
      "705704                         11.0                       4.0  \n",
      "707511                          5.0                       7.0  \n",
      "710261                         11.0                       4.0  \n",
      "712186                         10.0                       4.0  \n",
      "\n",
      "[149 rows x 35 columns]\n",
      "shape: (149, 35)\n",
      "┌────────────┬────────────┬────────────┬────────────┬───┬────────────┬────────────┬────────────┬────────────┐\n",
      "│ Incident   ┆ Incident   ┆ Incident   ┆ Incident   ┆ … ┆ HSOC Zones ┆ Invest In  ┆ Current    ┆ Current    │\n",
      "│ Datetime   ┆ Date       ┆ Time       ┆ Year       ┆   ┆ as of      ┆ Neighborho ┆ Supervisor ┆ Police     │\n",
      "│ ---        ┆ ---        ┆ ---        ┆ ---        ┆   ┆ 2018-06-05 ┆ ods (IIN)  ┆ Districts  ┆ Districts  │\n",
      "│ str        ┆ str        ┆ str        ┆ i64        ┆   ┆ ---        ┆ Ar…        ┆ ---        ┆ ---        │\n",
      "│            ┆            ┆            ┆            ┆   ┆ f64        ┆ ---        ┆ f64        ┆ f64        │\n",
      "│            ┆            ┆            ┆            ┆   ┆            ┆ f64        ┆            ┆            │\n",
      "╞════════════╪════════════╪════════════╪════════════╪═══╪════════════╪════════════╪════════════╪════════════╡\n",
      "│ 2023/03/25 ┆ 2023/03/25 ┆ 18:30      ┆ 2023       ┆ … ┆ null       ┆ null       ┆ 9.0        ┆ 2.0        │\n",
      "│ 06:30:00   ┆            ┆            ┆            ┆   ┆            ┆            ┆            ┆            │\n",
      "│ PM         ┆            ┆            ┆            ┆   ┆            ┆            ┆            ┆            │\n",
      "│ 2021/11/13 ┆ 2021/11/13 ┆ 20:33      ┆ 2021       ┆ … ┆ null       ┆ null       ┆ 10.0       ┆ 1.0        │\n",
      "│ 08:33:00   ┆            ┆            ┆            ┆   ┆            ┆            ┆            ┆            │\n",
      "│ PM         ┆            ┆            ┆            ┆   ┆            ┆            ┆            ┆            │\n",
      "│ 2019/12/14 ┆ 2019/12/14 ┆ 01:37      ┆ 2019       ┆ … ┆ null       ┆ null       ┆ 10.0       ┆ 1.0        │\n",
      "│ 01:37:00   ┆            ┆            ┆            ┆   ┆            ┆            ┆            ┆            │\n",
      "│ AM         ┆            ┆            ┆            ┆   ┆            ┆            ┆            ┆            │\n",
      "│ 2021/11/27 ┆ 2021/11/27 ┆ 10:00      ┆ 2021       ┆ … ┆ 3.0        ┆ null       ┆ 2.0        ┆ 3.0        │\n",
      "│ 10:00:00   ┆            ┆            ┆            ┆   ┆            ┆            ┆            ┆            │\n",
      "│ AM         ┆            ┆            ┆            ┆   ┆            ┆            ┆            ┆            │\n",
      "│ …          ┆ …          ┆ …          ┆ …          ┆ … ┆ …          ┆ …          ┆ …          ┆ …          │\n",
      "│ 2021/08/21 ┆ 2021/08/21 ┆ 18:13      ┆ 2021       ┆ … ┆ 1.0        ┆ null       ┆ 11.0       ┆ 4.0        │\n",
      "│ 06:13:00   ┆            ┆            ┆            ┆   ┆            ┆            ┆            ┆            │\n",
      "│ PM         ┆            ┆            ┆            ┆   ┆            ┆            ┆            ┆            │\n",
      "│ 2021/06/12 ┆ 2021/06/12 ┆ 19:35      ┆ 2021       ┆ … ┆ null       ┆ null       ┆ 5.0        ┆ 7.0        │\n",
      "│ 07:35:00   ┆            ┆            ┆            ┆   ┆            ┆            ┆            ┆            │\n",
      "│ PM         ┆            ┆            ┆            ┆   ┆            ┆            ┆            ┆            │\n",
      "│ 2021/05/15 ┆ 2021/05/15 ┆ 06:40      ┆ 2021       ┆ … ┆ null       ┆ null       ┆ 11.0       ┆ 4.0        │\n",
      "│ 06:40:00   ┆            ┆            ┆            ┆   ┆            ┆            ┆            ┆            │\n",
      "│ AM         ┆            ┆            ┆            ┆   ┆            ┆            ┆            ┆            │\n",
      "│ 2021/08/21 ┆ 2021/08/21 ┆ 02:39      ┆ 2021       ┆ … ┆ 1.0        ┆ null       ┆ 10.0       ┆ 4.0        │\n",
      "│ 02:39:00   ┆            ┆            ┆            ┆   ┆            ┆            ┆            ┆            │\n",
      "│ AM         ┆            ┆            ┆            ┆   ┆            ┆            ┆            ┆            │\n",
      "└────────────┴────────────┴────────────┴────────────┴───┴────────────┴────────────┴────────────┴────────────┘\n"
     ]
    },
    {
     "name": "stdout",
     "output_type": "stream",
     "text": [
      "+--------+-----------+--------------------+--------------------+----+-------------------+--------------------+--------------------+------+--------+----+--------+----+--------------+--------+------------+------------+----+--------------------+------------+-------------+--------------------+\n",
      "|      ID|Case Number|                Date|               Block|IUCR|       Primary Type|         Description|Location Description|Arrest|Domestic|Beat|District|Ward|Community Area|FBI Code|X Coordinate|Y Coordinate|Year|          Updated On|    Latitude|    Longitude|            Location|\n",
      "+--------+-----------+--------------------+--------------------+----+-------------------+--------------------+--------------------+------+--------+----+--------+----+--------------+--------+------------+------------+----+--------------------+------------+-------------+--------------------+\n",
      "|10260442|   HY447838|10/03/2015 01:00:...| 085XX S BUFFALO AVE|0910|MOTOR VEHICLE THEFT|          AUTOMOBILE|           APARTMENT|  true|   false|0424|     004|  10|            46|      07|     1199621|     1849053|2015|02/10/2018 03:50:...| 41.74059933|-87.544182489|(41.74059933, -87...|\n",
      "|10278500|   HY466484|10/18/2015 06:02:...|  061XX S RACINE AVE|0930|MOTOR VEHICLE THEFT|THEFT/RECOVERY: A...|           APARTMENT|  true|    true|0712|     007|  16|            68|      07|     1169373|     1864049|2015|02/10/2018 03:50:...|41.782458017|-87.654573943|(41.782458017, -8...|\n",
      "|10378459|   HZ114682|01/13/2016 08:09:...|130XX S DR MARTIN...|0930|MOTOR VEHICLE THEFT|THEFT/RECOVERY: A...|           APARTMENT|  true|    true|0533|     005|   9|            54|      07|     1181003|     1818856|2016|02/10/2018 03:50:...|41.658182943| -87.61332106|(41.658182943, -8...|\n",
      "|10494087|   HZ234841|04/13/2016 04:30:...|     036XX W 84TH ST|0910|MOTOR VEHICLE THEFT|          AUTOMOBILE|           APARTMENT|  true|   false|0834|     008|  18|            70|      07|     1153384|     1848631|2016|02/10/2018 03:50:...|41.740479924|  -87.7136019|(41.740479924, -8...|\n",
      "|10609949|   HZ362413|07/24/2016 10:00:...|     018XX W 79TH ST|0910|MOTOR VEHICLE THEFT|          AUTOMOBILE|           APARTMENT|  true|   false|0611|     006|  18|            71|      07|     1165267|     1852287|2016|02/10/2018 03:50:...|41.750269446|-87.669960322|(41.750269446, -8...|\n",
      "|10677393|   HZ430207|09/12/2016 12:00:...|   018XX N MASON AVE|0910|MOTOR VEHICLE THEFT|          AUTOMOBILE|           APARTMENT|  true|   false|2531|     025|  29|            25|      07|     1136462|     1911500|2016|02/10/2018 03:50:...|41.913320241|-87.774104148|(41.913320241, -8...|\n",
      "|10720548|   HZ479058|10/18/2016 07:30:...|  038XX W GLADYS AVE|0910|MOTOR VEHICLE THEFT|          AUTOMOBILE|           APARTMENT|  true|    true|1133|     011|  24|            26|      07|     1150844|     1898081|2016|02/10/2018 03:50:...|41.876227655|-87.721618728|(41.876227655, -8...|\n",
      "|11133537|   JA490792|10/29/2017 03:35:...|   042XX W WILCOX ST|0910|MOTOR VEHICLE THEFT|          AUTOMOBILE|           APARTMENT|  true|   false|1115|     011|  28|            26|      07|     1148174|     1898999|2017|02/10/2018 03:50:...|41.878798552|-87.731398505|(41.878798552, -8...|\n",
      "|11040312|   JA374845|08/02/2017 09:30:...|   013XX S AVERS AVE|0910|MOTOR VEHICLE THEFT|          AUTOMOBILE|           APARTMENT|  true|   false|1011|     010|  24|            29|      07|     1150923|     1893581|2017|02/10/2018 03:50:...|41.863877597|-87.721446441|(41.863877597, -8...|\n",
      "|11106863|   JA456078|10/02/2017 03:30:...|031XX W ROOSEVELT RD|0910|MOTOR VEHICLE THEFT|          AUTOMOBILE|           APARTMENT|  true|   false|1134|     011|  24|            29|      07|     1155395|     1894538|2017|02/10/2018 03:50:...| 41.86641507|-87.705004143|(41.86641507, -87...|\n",
      "|11116730|   JA468837|10/12/2017 05:20:...|    008XX S WELLS ST|0910|MOTOR VEHICLE THEFT|          AUTOMOBILE|           APARTMENT|  true|   false|0123|     001|   2|            32|      07|     1174838|     1896647|2017|02/10/2018 03:50:...| 41.87178962|-87.633564301|(41.87178962, -87...|\n",
      "|10133361|   HY321937|10/25/2014 05:00:...|     022XX W 21ST ST|0910|MOTOR VEHICLE THEFT|          AUTOMOBILE|           APARTMENT|  true|    true|1234|     012|  25|            31|      07|     1161694|     1890026|2014|02/10/2018 03:50:...| 41.85390486|-87.682005532|(41.85390486, -87...|\n",
      "|11418823|   JB399688|08/19/2018 03:30:...|     008XX E 49TH ST|0910|MOTOR VEHICLE THEFT|          AUTOMOBILE|           APARTMENT|  true|   false|0223|     002|   4|            39|      07|     1182786|     1872705|2018|08/28/2018 03:57:...|41.805909748|-87.605129628|(41.805909748, -8...|\n",
      "|11437880|   JB422981|08/31/2018 10:30:...|     003XX E 57TH ST|0910|MOTOR VEHICLE THEFT|          AUTOMOBILE|           APARTMENT|  true|   false|0232|     002|  20|            40|      07|     1179272|     1867292|2018|03/29/2019 04:05:...|41.791136962|-87.618182705|(41.791136962, -8...|\n",
      "|11306558|   JB252382|05/06/2018 07:00:...|   044XX W WALTON ST|0910|MOTOR VEHICLE THEFT|          AUTOMOBILE|           APARTMENT|  true|   false|1111|     011|  37|            23|      07|     1146617|     1905958|2018|06/09/2018 03:47:...|41.897924657|-87.736937971|(41.897924657, -8...|\n",
      "|11320555|   JB270781|05/20/2018 01:50:...| 042XX S ROCKWELL ST|0910|MOTOR VEHICLE THEFT|          AUTOMOBILE|           APARTMENT|  true|    true|0921|     009|  12|            58|      07|     1159736|     1876529|2018|07/14/2018 03:49:...| 41.81690809|-87.689563423|(41.81690809, -87...|\n",
      "|11364655|   JB328886|06/30/2018 06:40:...|     015XX E 67TH PL|0910|MOTOR VEHICLE THEFT|          AUTOMOBILE|           APARTMENT|  true|   false|0332|     003|   5|            43|      07|     1187757|     1860542|2018|07/09/2018 04:13:...|41.772416526|-87.587285227|(41.772416526, -8...|\n",
      "|11372238|   JB339205|07/04/2018 05:00:...|     015XX E 67TH PL|0910|MOTOR VEHICLE THEFT|          AUTOMOBILE|           APARTMENT|  true|    true|0332|     003|   5|            43|      07|     1187619|     1860539|2018|07/12/2018 03:53:...|41.772411578|-87.587791183|(41.772411578, -8...|\n",
      "|11572756|   JC123975|01/20/2019 10:15:...| 073XX S KENWOOD AVE|0930|MOTOR VEHICLE THEFT|THEFT/RECOVERY: A...|           APARTMENT|  true|   false|0324|     003|   8|            43|      07|     1186477|     1856674|2019|01/27/2019 04:09:...|41.761832761|-87.592099464|(41.761832761, -8...|\n",
      "|11474516|   JB472585|10/12/2018 04:00:...| 044XX S PRAIRIE AVE|0910|MOTOR VEHICLE THEFT|          AUTOMOBILE|           APARTMENT|  true|   false|0215|     002|   3|            38|      07|     1178784|     1875616|2018|10/19/2018 04:14:...|41.813989891|-87.619718671|(41.813989891, -8...|\n",
      "+--------+-----------+--------------------+--------------------+----+-------------------+--------------------+--------------------+------+--------+----+--------+----+--------------+--------+------------+------------+----+--------------------+------------+-------------+--------------------+\n",
      "only showing top 20 rows\n",
      "\n",
      "               ID Case Number                    Date  \\\n",
      "21915    10260442    HY447838  10/03/2015 01:00:00 AM   \n",
      "33002    10278500    HY466484  10/18/2015 06:02:00 AM   \n",
      "134966   10378459    HZ114682  01/13/2016 08:09:00 PM   \n",
      "200460   10494087    HZ234841  04/13/2016 04:30:00 PM   \n",
      "238590   10609949    HZ362413  07/24/2016 10:00:00 AM   \n",
      "...           ...         ...                     ...   \n",
      "7605757  12801404    JF365405  08/21/2022 09:30:00 PM   \n",
      "7620953  12832955    JF403109  09/19/2022 08:30:00 PM   \n",
      "7641568  12867503    JF444449  10/22/2022 10:30:00 AM   \n",
      "7700794  12948760    JG112042  01/07/2023 09:00:00 PM   \n",
      "7754282  13015936    JG192393  03/20/2023 12:28:00 PM   \n",
      "\n",
      "                                       Block  IUCR         Primary Type  \\\n",
      "21915                    085XX S BUFFALO AVE  0910  MOTOR VEHICLE THEFT   \n",
      "33002                     061XX S RACINE AVE  0930  MOTOR VEHICLE THEFT   \n",
      "134966   130XX S DR MARTIN LUTHER KING JR DR  0930  MOTOR VEHICLE THEFT   \n",
      "200460                       036XX W 84TH ST  0910  MOTOR VEHICLE THEFT   \n",
      "238590                       018XX W 79TH ST  0910  MOTOR VEHICLE THEFT   \n",
      "...                                      ...   ...                  ...   \n",
      "7605757                     010XX S LYTLE ST  0910  MOTOR VEHICLE THEFT   \n",
      "7620953             085XX S STONY ISLAND AVE  0910  MOTOR VEHICLE THEFT   \n",
      "7641568                    068XX S PERRY AVE  0910  MOTOR VEHICLE THEFT   \n",
      "7700794                 050XX W WEST END AVE  0910  MOTOR VEHICLE THEFT   \n",
      "7754282                    106XX S YATES AVE  0910  MOTOR VEHICLE THEFT   \n",
      "\n",
      "                        Description Location Description  Arrest  Domestic  \\\n",
      "21915                    AUTOMOBILE            APARTMENT    True     False   \n",
      "33002    THEFT/RECOVERY: AUTOMOBILE            APARTMENT    True      True   \n",
      "134966   THEFT/RECOVERY: AUTOMOBILE            APARTMENT    True      True   \n",
      "200460                   AUTOMOBILE            APARTMENT    True     False   \n",
      "238590                   AUTOMOBILE            APARTMENT    True     False   \n",
      "...                             ...                  ...     ...       ...   \n",
      "7605757                  AUTOMOBILE            APARTMENT    True      True   \n",
      "7620953                  AUTOMOBILE            APARTMENT    True     False   \n",
      "7641568                  AUTOMOBILE            APARTMENT    True     False   \n",
      "7700794                  AUTOMOBILE            APARTMENT    True     False   \n",
      "7754282                  AUTOMOBILE            APARTMENT    True     False   \n",
      "\n",
      "         ...  Ward  Community Area  FBI Code  X Coordinate Y Coordinate  Year  \\\n",
      "21915    ...  10.0            46.0        07     1199621.0    1849053.0  2015   \n",
      "33002    ...  16.0            68.0        07     1169373.0    1864049.0  2015   \n",
      "134966   ...   9.0            54.0        07     1181003.0    1818856.0  2016   \n",
      "200460   ...  18.0            70.0        07     1153384.0    1848631.0  2016   \n",
      "238590   ...  18.0            71.0        07     1165267.0    1852287.0  2016   \n",
      "...      ...   ...             ...       ...           ...          ...   ...   \n",
      "7605757  ...  28.0            28.0        07     1168201.0    1895558.0  2022   \n",
      "7620953  ...   8.0            45.0        07     1188285.0    1848840.0  2022   \n",
      "7641568  ...   6.0            69.0        07     1176577.0    1859670.0  2022   \n",
      "7700794  ...  28.0            25.0        07     1142797.0    1900514.0  2023   \n",
      "7754282  ...   7.0            51.0        07     1194343.0    1834983.0  2023   \n",
      "\n",
      "                     Updated On   Latitude  Longitude  \\\n",
      "21915    02/10/2018 03:50:01 PM  41.740599 -87.544182   \n",
      "33002    02/10/2018 03:50:01 PM  41.782458 -87.654574   \n",
      "134966   02/10/2018 03:50:01 PM  41.658183 -87.613321   \n",
      "200460   02/10/2018 03:50:01 PM  41.740480 -87.713602   \n",
      "238590   02/10/2018 03:50:01 PM  41.750269 -87.669960   \n",
      "...                         ...        ...        ...   \n",
      "7605757  01/03/2023 03:46:28 PM  41.868947 -87.657963   \n",
      "7620953  01/03/2023 03:46:28 PM  41.740293 -87.585723   \n",
      "7641568  01/03/2023 03:46:28 PM  41.770282 -87.628294   \n",
      "7700794  01/26/2023 03:45:04 PM  41.883058 -87.751104   \n",
      "7754282  03/27/2023 04:58:01 PM  41.702121 -87.563981   \n",
      "\n",
      "                              Location  \n",
      "21915     (41.74059933, -87.544182489)  \n",
      "33002    (41.782458017, -87.654573943)  \n",
      "134966    (41.658182943, -87.61332106)  \n",
      "200460     (41.740479924, -87.7136019)  \n",
      "238590   (41.750269446, -87.669960322)  \n",
      "...                                ...  \n",
      "7605757  (41.868947206, -87.657962717)  \n",
      "7620953  (41.740292589, -87.585722529)  \n",
      "7641568  (41.770282485, -87.628293763)  \n",
      "7700794  (41.883057686, -87.751104303)  \n",
      "7754282  (41.702121118, -87.563980845)  \n",
      "\n",
      "[103 rows x 22 columns]\n",
      "shape: (103, 22)\n",
      "┌──────────┬───────────┬────────────┬───────────┬───┬──────────┬───────────┬───────────┬───────────┐\n",
      "│ ID       ┆ Case      ┆ Date       ┆ Block     ┆ … ┆ Updated  ┆ Latitude  ┆ Longitude ┆ Location  │\n",
      "│ ---      ┆ Number    ┆ ---        ┆ ---       ┆   ┆ On       ┆ ---       ┆ ---       ┆ ---       │\n",
      "│ i64      ┆ ---       ┆ str        ┆ str       ┆   ┆ ---      ┆ f64       ┆ f64       ┆ str       │\n",
      "│          ┆ str       ┆            ┆           ┆   ┆ str      ┆           ┆           ┆           │\n",
      "╞══════════╪═══════════╪════════════╪═══════════╪═══╪══════════╪═══════════╪═══════════╪═══════════╡\n",
      "│ 10260442 ┆ HY447838  ┆ 10/03/2015 ┆ 085XX S   ┆ … ┆ 02/10/20 ┆ 41.740599 ┆ -87.54418 ┆ (41.74059 │\n",
      "│          ┆           ┆ 01:00:00   ┆ BUFFALO   ┆   ┆ 18       ┆           ┆ 2         ┆ 933, -87. │\n",
      "│          ┆           ┆ AM         ┆ AVE       ┆   ┆ 03:50:01 ┆           ┆           ┆ 544182489 │\n",
      "│          ┆           ┆            ┆           ┆   ┆ PM       ┆           ┆           ┆ )         │\n",
      "│ 10278500 ┆ HY466484  ┆ 10/18/2015 ┆ 061XX S   ┆ … ┆ 02/10/20 ┆ 41.782458 ┆ -87.65457 ┆ (41.78245 │\n",
      "│          ┆           ┆ 06:02:00   ┆ RACINE    ┆   ┆ 18       ┆           ┆ 4         ┆ 8017, -87 │\n",
      "│          ┆           ┆ AM         ┆ AVE       ┆   ┆ 03:50:01 ┆           ┆           ┆ .65457394 │\n",
      "│          ┆           ┆            ┆           ┆   ┆ PM       ┆           ┆           ┆ 3)        │\n",
      "│ 10378459 ┆ HZ114682  ┆ 01/13/2016 ┆ 130XX S   ┆ … ┆ 02/10/20 ┆ 41.658183 ┆ -87.61332 ┆ (41.65818 │\n",
      "│          ┆           ┆ 08:09:00   ┆ DR MARTIN ┆   ┆ 18       ┆           ┆ 1         ┆ 2943, -87 │\n",
      "│          ┆           ┆ PM         ┆ LUTHER    ┆   ┆ 03:50:01 ┆           ┆           ┆ .61332106 │\n",
      "│          ┆           ┆            ┆ KING JR…  ┆   ┆ PM       ┆           ┆           ┆ )         │\n",
      "│ 10494087 ┆ HZ234841  ┆ 04/13/2016 ┆ 036XX W   ┆ … ┆ 02/10/20 ┆ 41.74048  ┆ -87.71360 ┆ (41.74047 │\n",
      "│          ┆           ┆ 04:30:00   ┆ 84TH ST   ┆   ┆ 18       ┆           ┆ 2         ┆ 9924, -87 │\n",
      "│          ┆           ┆ PM         ┆           ┆   ┆ 03:50:01 ┆           ┆           ┆ .7136019) │\n",
      "│          ┆           ┆            ┆           ┆   ┆ PM       ┆           ┆           ┆           │\n",
      "│ …        ┆ …         ┆ …          ┆ …         ┆ … ┆ …        ┆ …         ┆ …         ┆ …         │\n",
      "│ 12832955 ┆ JF403109  ┆ 09/19/2022 ┆ 085XX S   ┆ … ┆ 01/03/20 ┆ 41.740293 ┆ -87.58572 ┆ (41.74029 │\n",
      "│          ┆           ┆ 08:30:00   ┆ STONY     ┆   ┆ 23       ┆           ┆ 3         ┆ 2589, -87 │\n",
      "│          ┆           ┆ PM         ┆ ISLAND    ┆   ┆ 03:46:28 ┆           ┆           ┆ .58572252 │\n",
      "│          ┆           ┆            ┆ AVE       ┆   ┆ PM       ┆           ┆           ┆ 9)        │\n",
      "│ 12867503 ┆ JF444449  ┆ 10/22/2022 ┆ 068XX S   ┆ … ┆ 01/03/20 ┆ 41.770282 ┆ -87.62829 ┆ (41.77028 │\n",
      "│          ┆           ┆ 10:30:00   ┆ PERRY AVE ┆   ┆ 23       ┆           ┆ 4         ┆ 2485, -87 │\n",
      "│          ┆           ┆ AM         ┆           ┆   ┆ 03:46:28 ┆           ┆           ┆ .62829376 │\n",
      "│          ┆           ┆            ┆           ┆   ┆ PM       ┆           ┆           ┆ 3)        │\n",
      "│ 12948760 ┆ JG112042  ┆ 01/07/2023 ┆ 050XX W   ┆ … ┆ 01/26/20 ┆ 41.883058 ┆ -87.75110 ┆ (41.88305 │\n",
      "│          ┆           ┆ 09:00:00   ┆ WEST END  ┆   ┆ 23       ┆           ┆ 4         ┆ 7686, -87 │\n",
      "│          ┆           ┆ PM         ┆ AVE       ┆   ┆ 03:45:04 ┆           ┆           ┆ .75110430 │\n",
      "│          ┆           ┆            ┆           ┆   ┆ PM       ┆           ┆           ┆ 3)        │\n",
      "│ 13015936 ┆ JG192393  ┆ 03/20/2023 ┆ 106XX S   ┆ … ┆ 03/27/20 ┆ 41.702121 ┆ -87.56398 ┆ (41.70212 │\n",
      "│          ┆           ┆ 12:28:00   ┆ YATES AVE ┆   ┆ 23       ┆           ┆ 1         ┆ 1118, -87 │\n",
      "│          ┆           ┆ PM         ┆           ┆   ┆ 04:58:01 ┆           ┆           ┆ .56398084 │\n",
      "│          ┆           ┆            ┆           ┆   ┆ PM       ┆           ┆           ┆ 5)        │\n",
      "└──────────┴───────────┴────────────┴───────────┴───┴──────────┴───────────┴───────────┴───────────┘\n"
     ]
    }
   ],
   "source": [
    "elapsed_time_filter_small_spark = compute_time_filter_small_spark(small_dataframe_spark)\n",
    "elapsed_time_filter_small_pandas = compute_time_filter_small_pandas(small_dataframe_pandas)\n",
    "elapsed_time_filter_small_polars = compute_time_filter_small_polars(small_dataframe_polars)\n",
    "\n",
    "elapsed_time_filter_medium_spark = compute_time_filter_medium_spark(medium_dataframe_spark)\n",
    "elapsed_time_filter_medium_pandas = compute_time_filter_medium_pandas(medium_dataframe_pandas)\n",
    "elapsed_time_filter_medium_polars = compute_time_filter_medium_polars(medium_dataframe_polars)\n",
    "\n",
    "elapsed_time_filter_large_spark = compute_time_filter_large_spark(large_dataframe_spark)\n",
    "elapsed_time_filter_large_pandas = compute_time_filter_large_pandas(large_dataframe_pandas)\n",
    "elapsed_time_filter_large_polars = compute_time_filter_large_polars(large_dataframe_polars)"
   ]
  },
  {
   "cell_type": "markdown",
   "id": "92a0a46c",
   "metadata": {},
   "source": [
    "## Results"
   ]
  },
  {
   "cell_type": "code",
   "execution_count": 12,
   "id": "5b52f27c",
   "metadata": {
    "scrolled": true
   },
   "outputs": [],
   "source": [
    "libraries = ('Spark', 'Pandas', 'Polars')\n",
    "agg_small_times = (elapsed_time_agg_small_spark, elapsed_time_agg_small_pandas, elapsed_time_agg_small_polars)\n",
    "agg_medium_times = (elapsed_time_agg_medium_spark, elapsed_time_agg_medium_pandas, elapsed_time_agg_medium_polars)\n",
    "agg_large_times = (elapsed_time_agg_large_spark, elapsed_time_agg_large_pandas, elapsed_time_agg_large_polars)\n",
    "\n",
    "filter_small_times = (\n",
    "    elapsed_time_filter_small_spark, elapsed_time_filter_small_pandas, elapsed_time_filter_small_polars)\n",
    "filter_medium_times = (\n",
    "    elapsed_time_filter_medium_spark, elapsed_time_filter_medium_pandas, elapsed_time_filter_medium_polars)\n",
    "filter_large_times = (\n",
    "    elapsed_time_filter_large_spark, elapsed_time_filter_large_pandas, elapsed_time_filter_large_polars)"
   ]
  },
  {
   "cell_type": "code",
   "execution_count": 13,
   "id": "7d344c9e",
   "metadata": {
    "scrolled": false
   },
   "outputs": [
    {
     "data": {
      "image/png": "[encoded data removed]",
      "text/plain": [
       "<Figure size 640x480 with 1 Axes>"
      ]
     },
     "metadata": {},
     "output_type": "display_data"
    }
   ],
   "source": [
    "plot_times(libraries, agg_small_times,\n",
    "               'Execution time by API: aggregation functions on small dataset')"
   ]
  },
  {
   "cell_type": "markdown",
   "id": "bedc7640",
   "metadata": {},
   "source": [
    "Spark is notably slower than the others. No difference between Pandas and Polars."
   ]
  },
  {
   "cell_type": "code",
   "execution_count": 14,
   "id": "98897f70",
   "metadata": {
    "scrolled": false
   },
   "outputs": [
    {
     "data": {
      "image/png": "[encoded data removed]",
      "text/plain": [
       "<Figure size 640x480 with 1 Axes>"
      ]
     },
     "metadata": {},
     "output_type": "display_data"
    }
   ],
   "source": [
    "plot_times(libraries, agg_medium_times,\n",
    "               'Execution time by API: aggregation functions on medium dataset')"
   ]
  },
  {
   "cell_type": "markdown",
   "id": "6df92032",
   "metadata": {},
   "source": [
    "The dataset size increases 664 times respecting to the small one and the time for Spark increases is triplied. However, Pandas times does not change for this increase of size."
   ]
  },
  {
   "cell_type": "code",
   "execution_count": 15,
   "id": "f8507ff1",
   "metadata": {
    "scrolled": false
   },
   "outputs": [
    {
     "data": {
      "image/png": "[encoded data removed]",
      "text/plain": [
       "<Figure size 640x480 with 1 Axes>"
      ]
     },
     "metadata": {},
     "output_type": "display_data"
    }
   ],
   "source": [
    "plot_times(libraries, agg_large_times,\n",
    "               'Execution time by API: aggregation functions on large dataset')"
   ]
  },
  {
   "cell_type": "markdown",
   "id": "d6bbd8c5",
   "metadata": {},
   "source": [
    "The increase of time for Spark is exponential and unmeasured respecting the others libraries. Pandas and Polars times raises a little respecting the previous case and are pracatically the same among the two."
   ]
  },
  {
   "cell_type": "code",
   "execution_count": 16,
   "id": "f2bfbe54",
   "metadata": {
    "scrolled": false
   },
   "outputs": [
    {
     "data": {
      "image/png": "[encoded data removed]",
      "text/plain": [
       "<Figure size 640x480 with 1 Axes>"
      ]
     },
     "metadata": {},
     "output_type": "display_data"
    }
   ],
   "source": [
    "plot_times(libraries, filter_small_times,\n",
    "               'Execution time by API: filter operation on small dataset')"
   ]
  },
  {
   "cell_type": "markdown",
   "id": "eef1b039",
   "metadata": {},
   "source": [
    "Filter option is an operation significantly faster than functions aggregations. The time of Pandas and Polars are nearly zero and Spark takes slightly more time."
   ]
  },
  {
   "cell_type": "code",
   "execution_count": 17,
   "id": "c6624d9b",
   "metadata": {
    "scrolled": false
   },
   "outputs": [
    {
     "data": {
      "image/png": "[encoded data removed]",
      "text/plain": [
       "<Figure size 640x480 with 1 Axes>"
      ]
     },
     "metadata": {},
     "output_type": "display_data"
    }
   ],
   "source": [
    "plot_times(libraries, filter_medium_times,\n",
    "               'Execution time by API: filter operation on medium dataset')"
   ]
  },
  {
   "cell_type": "code",
   "execution_count": 18,
   "id": "8ca10713",
   "metadata": {
    "scrolled": false
   },
   "outputs": [
    {
     "data": {
      "image/png": "[encoded data removed]",
      "text/plain": [
       "<Figure size 640x480 with 1 Axes>"
      ]
     },
     "metadata": {},
     "output_type": "display_data"
    }
   ],
   "source": [
    "plot_times(libraries, filter_large_times,\n",
    "               'Execution time by API: filter operation on large dataset')"
   ]
  },
  {
   "cell_type": "markdown",
   "id": "98563bc5",
   "metadata": {},
   "source": [
    "## Stop SparkSession object\n",
    "A good programming practise is to stop the SparkSession object by hand by calling `stop()` method."
   ]
  },
  {
   "cell_type": "code",
   "execution_count": 19,
   "id": "5ad2f5df",
   "metadata": {
    "scrolled": true
   },
   "outputs": [],
   "source": [
    "spark_session.stop()  # release allocated resources"
   ]
  },
  {
   "cell_type": "markdown",
   "id": "455ab7aa",
   "metadata": {},
   "source": [
    "## Conclusions"
   ]
  },
  {
   "cell_type": "markdown",
   "id": "9bb1c2bf",
   "metadata": {},
   "source": [
    "The conclusions reached are the following:\n",
    "\n",
    "- There is no significantly difference between Pandas and Polars on small and medium size dataset\n",
    "- I only recommend first Polars and then Pandas when the dataset is extremely large and the number of operations is large, too\n",
    "- The usage of Spark is not recommended on a single machine. Pandas or Polars are better alternatives by far for manipulating dataframes\n",
    "- The performance of Spark, even on large dataset, is poor and its potential is wasted **on a single machine**. As I theorized at the beginning of this assessment when distributing and coordinating the computation on a single machine do add additional latency. Besides we might run the risk of increasing runtime scandalously and without an obvious cause"
   ]
  }
 ],
 "metadata": {
  "kernelspec": {
   "display_name": "Python 3 (ipykernel)",
   "language": "python",
   "name": "python3"
  },
  "language_info": {
   "codemirror_mode": {
    "name": "ipython",
    "version": 3
   },
   "file_extension": ".py",
   "mimetype": "text/x-python",
   "name": "python",
   "nbconvert_exporter": "python",
   "pygments_lexer": "ipython3",
   "version": "3.7.16"
  }
 },
 "nbformat": 4,
 "nbformat_minor": 5
}
